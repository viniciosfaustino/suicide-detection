{
 "cells": [
  {
   "cell_type": "code",
   "execution_count": 29,
   "metadata": {
    "colab": {
     "base_uri": "https://localhost:8080/",
     "height": 35
    },
    "executionInfo": {
     "elapsed": 723,
     "status": "ok",
     "timestamp": 1602646769294,
     "user": {
      "displayName": "Vinícios Carvalho",
      "photoUrl": "https://lh3.googleusercontent.com/a-/AOh14Gjhp5co0d_AUKLWGcNdVqI7Qn0syOObU223e5VE7Hs=s64",
      "userId": "11287658652742546493"
     },
     "user_tz": 240
    },
    "id": "Upqi-YlEGY_9",
    "outputId": "9c935306-0d8c-4624-86f5-64a662bf8764"
   },
   "outputs": [
    {
     "name": "stdout",
     "output_type": "stream",
     "text": [
      "Drive already mounted at /content/drive; to attempt to forcibly remount, call drive.mount(\"/content/drive\", force_remount=True).\n"
     ]
    }
   ],
   "source": [
    "CLASSES = ''\n",
    "SIZE = \"\"\n",
    "\n",
    "FOLDER = \"\"\n",
    "DATA_FOLDER = \"\"\n",
    "FOLDS_PATH = \"\".format(SIZE, CLASSES)\n",
    "FOLDS = 10\n",
    "\n",
    "from google.colab import drive\n",
    "drive.mount('/content/drive')"
   ]
  },
  {
   "cell_type": "code",
   "execution_count": 30,
   "metadata": {
    "executionInfo": {
     "elapsed": 831,
     "status": "ok",
     "timestamp": 1602646769805,
     "user": {
      "displayName": "Vinícios Carvalho",
      "photoUrl": "https://lh3.googleusercontent.com/a-/AOh14Gjhp5co0d_AUKLWGcNdVqI7Qn0syOObU223e5VE7Hs=s64",
      "userId": "11287658652742546493"
     },
     "user_tz": 240
    },
    "id": "ERyh40tNFaOD"
   },
   "outputs": [],
   "source": [
    "from time import ctime\n",
    "\n",
    "import json\n",
    "import os\n",
    "import numpy as np\n",
    "import pandas as pd\n",
    "import sklearn.svm as svm\n",
    "\n",
    "from scipy import stats\n",
    "from sklearn import preprocessing\n",
    "from sklearn.metrics import make_scorer, roc_auc_score, f1_score, precision_score, recall_score, accuracy_score\n",
    "from sklearn.model_selection import GridSearchCV, RandomizedSearchCV \n",
    "from sklearn.svm import SVC as svc "
   ]
  },
  {
   "cell_type": "code",
   "execution_count": 31,
   "metadata": {
    "executionInfo": {
     "elapsed": 1001,
     "status": "ok",
     "timestamp": 1602646770511,
     "user": {
      "displayName": "Vinícios Carvalho",
      "photoUrl": "https://lh3.googleusercontent.com/a-/AOh14Gjhp5co0d_AUKLWGcNdVqI7Qn0syOObU223e5VE7Hs=s64",
      "userId": "11287658652742546493"
     },
     "user_tz": 240
    },
    "id": "x2qVaMtR49or"
   },
   "outputs": [],
   "source": [
    "created_at = ctime()\n",
    "created_at = created_at.replace(' ', '-')"
   ]
  },
  {
   "cell_type": "markdown",
   "metadata": {
    "id": "_SAR9AvzdZ84"
   },
   "source": [
    "#Definindo funções de métrica"
   ]
  },
  {
   "cell_type": "code",
   "execution_count": 32,
   "metadata": {
    "executionInfo": {
     "elapsed": 900,
     "status": "ok",
     "timestamp": 1602646771483,
     "user": {
      "displayName": "Vinícios Carvalho",
      "photoUrl": "https://lh3.googleusercontent.com/a-/AOh14Gjhp5co0d_AUKLWGcNdVqI7Qn0syOObU223e5VE7Hs=s64",
      "userId": "11287658652742546493"
     },
     "user_tz": 240
    },
    "id": "QgX7fK6Rdd9H"
   },
   "outputs": [],
   "source": [
    "accuracy = make_scorer(precision_score)\n",
    "f1 = make_scorer(f1_score, average='macro')\n",
    "precision = make_scorer(precision_score, average='macro')\n",
    "recall = make_scorer(recall_score, average='macro')\n",
    "\n",
    "scorer = make_scorer(f1_score, average='macro')"
   ]
  },
  {
   "cell_type": "code",
   "execution_count": 33,
   "metadata": {
    "executionInfo": {
     "elapsed": 1207,
     "status": "ok",
     "timestamp": 1602646772831,
     "user": {
      "displayName": "Vinícios Carvalho",
      "photoUrl": "https://lh3.googleusercontent.com/a-/AOh14Gjhp5co0d_AUKLWGcNdVqI7Qn0syOObU223e5VE7Hs=s64",
      "userId": "11287658652742546493"
     },
     "user_tz": 240
    },
    "id": "cANLVliod-Rv"
   },
   "outputs": [],
   "source": [
    "def evaluate(clf, X, y):\n",
    "  y_pred = clf.predict(X)\n",
    "  acc = accuracy_score(y, y_pred)\n",
    "  prec = precision_score(y, y_pred, average='macro')\n",
    "  rec = recall_score(y, y_pred, average='macro')\n",
    "  f1_s = f1_score(y, y_pred, average='macro')\n",
    "  print(y)\n",
    "  print(y_pred)\n",
    "  result = [acc, prec, rec, f1_s]\n",
    "  return result"
   ]
  },
  {
   "cell_type": "code",
   "execution_count": 16,
   "metadata": {
    "executionInfo": {
     "elapsed": 533,
     "status": "ok",
     "timestamp": 1602642500335,
     "user": {
      "displayName": "Vinícios Carvalho",
      "photoUrl": "https://lh3.googleusercontent.com/a-/AOh14Gjhp5co0d_AUKLWGcNdVqI7Qn0syOObU223e5VE7Hs=s64",
      "userId": "11287658652742546493"
     },
     "user_tz": 240
    },
    "id": "nWSckyv316Zw"
   },
   "outputs": [],
   "source": [
    "params = {}"
   ]
  },
  {
   "cell_type": "markdown",
   "metadata": {
    "id": "NCYEU0OdFmIL"
   },
   "source": [
    "#Carregando dataset"
   ]
  },
  {
   "cell_type": "code",
   "execution_count": 34,
   "metadata": {
    "executionInfo": {
     "elapsed": 794,
     "status": "ok",
     "timestamp": 1602646776107,
     "user": {
      "displayName": "Vinícios Carvalho",
      "photoUrl": "https://lh3.googleusercontent.com/a-/AOh14Gjhp5co0d_AUKLWGcNdVqI7Qn0syOObU223e5VE7Hs=s64",
      "userId": "11287658652742546493"
     },
     "user_tz": 240
    },
    "id": "_wPrIu3rFnnL"
   },
   "outputs": [],
   "source": [
    "def load_train_test(fold):\n",
    "  df_train = pd.read_csv(FOLDS_PATH+\"train\"+fold+\".csv\", sep='\\t')\n",
    "  df_test = pd.read_csv(FOLDS_PATH+\"test\"+fold+\".csv\", sep='\\t')\n",
    "\n",
    "\n",
    "  cols = [str(i) for i in range(100)]\n",
    "\n",
    "  df_train['embedding'] = df_train.loc[:,'0':'99'].values.tolist()\n",
    "  df_test['embedding'] = df_test.loc[:,'0':'99'].values.tolist()\n",
    "\n",
    "  df_train.drop(cols, axis=1, inplace=True)\n",
    "  df_test.drop(cols, axis=1, inplace=True)\n",
    "\n",
    "\n",
    "  train_features = df_train['embedding']\n",
    "  train_labels = df_train['y']\n",
    "\n",
    "  test_features = df_test['embedding']\n",
    "  test_labels = df_test['y']\n",
    "\n",
    "\n",
    "  X = []\n",
    "  for t in train_features:\n",
    "    X.append(np.array(t))\n",
    "  train_features = np.array(X)\n",
    "\n",
    "  X = []\n",
    "  for t in test_features:\n",
    "    X.append(np.array(t))\n",
    "  test_features = np.array(X)\n",
    "\n",
    "  return train_features, train_labels, test_features, test_labels"
   ]
  },
  {
   "cell_type": "markdown",
   "metadata": {
    "id": "dXiO2vZDFphS"
   },
   "source": [
    "#Definindo modelo"
   ]
  },
  {
   "cell_type": "code",
   "execution_count": 24,
   "metadata": {
    "executionInfo": {
     "elapsed": 764,
     "status": "ok",
     "timestamp": 1602646595111,
     "user": {
      "displayName": "Vinícios Carvalho",
      "photoUrl": "https://lh3.googleusercontent.com/a-/AOh14Gjhp5co0d_AUKLWGcNdVqI7Qn0syOObU223e5VE7Hs=s64",
      "userId": "11287658652742546493"
     },
     "user_tz": 240
    },
    "id": "RVTsyZLqKpux"
   },
   "outputs": [],
   "source": [
    "def svc_param_selection(X, y, nfolds):\n",
    "    Cs = [0.001, 0.01, 0.1, 1, 10, 100, 1000]    \n",
    "    gammas = [0.001, 0.01, 0.1, 1, 10, 100]    \n",
    "    param_grid = {'C': Cs, 'gamma' : gammas}\n",
    "    grid_search = GridSearchCV(svc(kernel='rbf'), param_grid, cv=nfolds, scoring=scorer, verbose=1)\n",
    "    grid_search.fit(X, y)    \n",
    "    grid_search.best_params_\n",
    "    return grid_search"
   ]
  },
  {
   "cell_type": "code",
   "execution_count": 7,
   "metadata": {
    "colab": {
     "base_uri": "https://localhost:8080/",
     "height": 370
    },
    "executionInfo": {
     "elapsed": 1047,
     "status": "error",
     "timestamp": 1602645159244,
     "user": {
      "displayName": "Vinícios Carvalho",
      "photoUrl": "https://lh3.googleusercontent.com/a-/AOh14Gjhp5co0d_AUKLWGcNdVqI7Qn0syOObU223e5VE7Hs=s64",
      "userId": "11287658652742546493"
     },
     "user_tz": 240
    },
    "id": "LNRA7VBBLFvL",
    "outputId": "85527b8d-086e-4334-823c-0402a13ddfd0"
   },
   "outputs": [
    {
     "ename": "NameError",
     "evalue": "ignored",
     "output_type": "error",
     "traceback": [
      "\u001b[0;31m---------------------------------------------------------------------------\u001b[0m",
      "\u001b[0;31mNameError\u001b[0m                                 Traceback (most recent call last)",
      "\u001b[0;32m<ipython-input-7-16b4d23f380b>\u001b[0m in \u001b[0;36m<module>\u001b[0;34m()\u001b[0m\n\u001b[1;32m      2\u001b[0m \u001b[0;32mfor\u001b[0m \u001b[0mfold\u001b[0m \u001b[0;32min\u001b[0m \u001b[0mrange\u001b[0m\u001b[0;34m(\u001b[0m\u001b[0mFOLDS\u001b[0m\u001b[0;34m)\u001b[0m\u001b[0;34m:\u001b[0m\u001b[0;34m\u001b[0m\u001b[0;34m\u001b[0m\u001b[0m\n\u001b[1;32m      3\u001b[0m   \u001b[0mtrain_features\u001b[0m\u001b[0;34m,\u001b[0m \u001b[0mtrain_labels\u001b[0m\u001b[0;34m,\u001b[0m \u001b[0mtest_features\u001b[0m\u001b[0;34m,\u001b[0m \u001b[0mtest_labels\u001b[0m \u001b[0;34m=\u001b[0m \u001b[0mload_train_test\u001b[0m\u001b[0;34m(\u001b[0m\u001b[0mstr\u001b[0m\u001b[0;34m(\u001b[0m\u001b[0mfold\u001b[0m\u001b[0;34m)\u001b[0m\u001b[0;34m)\u001b[0m\u001b[0;34m\u001b[0m\u001b[0;34m\u001b[0m\u001b[0m\n\u001b[0;32m----> 4\u001b[0;31m   \u001b[0mgrid_search\u001b[0m \u001b[0;34m=\u001b[0m \u001b[0msvc_param_selection\u001b[0m\u001b[0;34m(\u001b[0m\u001b[0mtrain_features\u001b[0m\u001b[0;34m,\u001b[0m \u001b[0mtrain_labels\u001b[0m\u001b[0;34m,\u001b[0m \u001b[0;36m10\u001b[0m\u001b[0;34m)\u001b[0m\u001b[0;34m\u001b[0m\u001b[0;34m\u001b[0m\u001b[0m\n\u001b[0m\u001b[1;32m      5\u001b[0m   \u001b[0mparams\u001b[0m\u001b[0;34m[\u001b[0m\u001b[0;34m'grid'\u001b[0m\u001b[0;34m]\u001b[0m \u001b[0;34m=\u001b[0m \u001b[0mgrid_search\u001b[0m\u001b[0;34m.\u001b[0m\u001b[0mbest_params_\u001b[0m\u001b[0;34m\u001b[0m\u001b[0;34m\u001b[0m\u001b[0m\n\u001b[1;32m      6\u001b[0m   \u001b[0mclf\u001b[0m \u001b[0;34m=\u001b[0m \u001b[0msvc\u001b[0m\u001b[0;34m(\u001b[0m\u001b[0mkernel\u001b[0m\u001b[0;34m=\u001b[0m\u001b[0;34m'rbf'\u001b[0m\u001b[0;34m,\u001b[0m \u001b[0mC\u001b[0m\u001b[0;34m=\u001b[0m\u001b[0mparams\u001b[0m\u001b[0;34m[\u001b[0m\u001b[0;34m'grid'\u001b[0m\u001b[0;34m]\u001b[0m\u001b[0;34m[\u001b[0m\u001b[0;34m'C'\u001b[0m\u001b[0;34m]\u001b[0m\u001b[0;34m,\u001b[0m \u001b[0mgamma\u001b[0m\u001b[0;34m=\u001b[0m\u001b[0mparams\u001b[0m\u001b[0;34m[\u001b[0m\u001b[0;34m'grid'\u001b[0m\u001b[0;34m]\u001b[0m\u001b[0;34m[\u001b[0m\u001b[0;34m'gamma'\u001b[0m\u001b[0;34m]\u001b[0m\u001b[0;34m)\u001b[0m\u001b[0;34m\u001b[0m\u001b[0;34m\u001b[0m\u001b[0m\n",
      "\u001b[0;32m<ipython-input-6-bdc5d6cd2dc3>\u001b[0m in \u001b[0;36msvc_param_selection\u001b[0;34m(X, y, nfolds)\u001b[0m\n\u001b[1;32m      3\u001b[0m     \u001b[0mgammas\u001b[0m \u001b[0;34m=\u001b[0m \u001b[0;34m[\u001b[0m\u001b[0;36m0.001\u001b[0m\u001b[0;34m,\u001b[0m \u001b[0;36m0.01\u001b[0m\u001b[0;34m,\u001b[0m \u001b[0;36m0.1\u001b[0m\u001b[0;34m,\u001b[0m \u001b[0;36m1\u001b[0m\u001b[0;34m,\u001b[0m \u001b[0;36m10\u001b[0m\u001b[0;34m,\u001b[0m \u001b[0;36m100\u001b[0m\u001b[0;34m]\u001b[0m\u001b[0;34m\u001b[0m\u001b[0;34m\u001b[0m\u001b[0m\n\u001b[1;32m      4\u001b[0m     \u001b[0mparam_grid\u001b[0m \u001b[0;34m=\u001b[0m \u001b[0;34m{\u001b[0m\u001b[0;34m'C'\u001b[0m\u001b[0;34m:\u001b[0m \u001b[0mCs\u001b[0m\u001b[0;34m,\u001b[0m \u001b[0;34m'gamma'\u001b[0m \u001b[0;34m:\u001b[0m \u001b[0mgammas\u001b[0m\u001b[0;34m}\u001b[0m\u001b[0;34m\u001b[0m\u001b[0;34m\u001b[0m\u001b[0m\n\u001b[0;32m----> 5\u001b[0;31m     \u001b[0mgrid_search\u001b[0m \u001b[0;34m=\u001b[0m \u001b[0mGridSearchCV\u001b[0m\u001b[0;34m(\u001b[0m\u001b[0msvc\u001b[0m\u001b[0;34m(\u001b[0m\u001b[0mkernel\u001b[0m\u001b[0;34m=\u001b[0m\u001b[0;34m'rbf'\u001b[0m\u001b[0;34m)\u001b[0m\u001b[0;34m,\u001b[0m \u001b[0mparam_grid\u001b[0m\u001b[0;34m,\u001b[0m \u001b[0mcv\u001b[0m\u001b[0;34m=\u001b[0m\u001b[0mnfolds\u001b[0m\u001b[0;34m,\u001b[0m \u001b[0mscoring\u001b[0m\u001b[0;34m=\u001b[0m\u001b[0mscorer\u001b[0m\u001b[0;34m,\u001b[0m \u001b[0mverbose\u001b[0m\u001b[0;34m=\u001b[0m\u001b[0;36m1\u001b[0m\u001b[0;34m)\u001b[0m\u001b[0;34m\u001b[0m\u001b[0;34m\u001b[0m\u001b[0m\n\u001b[0m\u001b[1;32m      6\u001b[0m     \u001b[0mgrid_search\u001b[0m\u001b[0;34m.\u001b[0m\u001b[0mfit\u001b[0m\u001b[0;34m(\u001b[0m\u001b[0mX\u001b[0m\u001b[0;34m,\u001b[0m \u001b[0my\u001b[0m\u001b[0;34m)\u001b[0m\u001b[0;34m\u001b[0m\u001b[0;34m\u001b[0m\u001b[0m\n\u001b[1;32m      7\u001b[0m     \u001b[0mgrid_search\u001b[0m\u001b[0;34m.\u001b[0m\u001b[0mbest_params_\u001b[0m\u001b[0;34m\u001b[0m\u001b[0;34m\u001b[0m\u001b[0m\n",
      "\u001b[0;31mNameError\u001b[0m: name 'scorer' is not defined"
     ]
    }
   ],
   "source": [
    "res = []\n",
    "for fold in range(FOLDS):\n",
    "  train_features, train_labels, test_features, test_labels = load_train_test(str(fold))\n",
    "  grid_search = svc_param_selection(train_features, train_labels, 10)\n",
    "  params['grid'] = grid_search.best_params_\n",
    "  clf = svc(kernel='rbf', C=params['grid']['C'], gamma=params['grid']['gamma']) \n",
    "  clf.fit(train_features, train_labels)\n",
    "  grid_res = evaluate(clf, test_features, test_labels)\n",
    "  res.append(grid_res)"
   ]
  },
  {
   "cell_type": "code",
   "execution_count": null,
   "metadata": {
    "id": "q3VM-F801-Zs"
   },
   "outputs": [],
   "source": [
    "res"
   ]
  },
  {
   "cell_type": "code",
   "execution_count": null,
   "metadata": {
    "colab": {
     "base_uri": "https://localhost:8080/",
     "height": 34
    },
    "executionInfo": {
     "elapsed": 159724,
     "status": "ok",
     "timestamp": 1586636576878,
     "user": {
      "displayName": "Vinícios Carvalho",
      "photoUrl": "https://lh3.googleusercontent.com/a-/AOh14Gjhp5co0d_AUKLWGcNdVqI7Qn0syOObU223e5VE7Hs=s64",
      "userId": "11287658652742546493"
     },
     "user_tz": 240
    },
    "id": "OLy2_zezRQV0",
    "outputId": "85eede00-4633-4ad7-81ec-4b43f86ca66d"
   },
   "outputs": [
    {
     "name": "stdout",
     "output_type": "stream",
     "text": [
      "0.6979591836734694\n"
     ]
    }
   ],
   "source": []
  },
  {
   "cell_type": "markdown",
   "metadata": {
    "id": "ynU_v6mRTTB0"
   },
   "source": [
    "#Salvando Resultados"
   ]
  },
  {
   "cell_type": "code",
   "execution_count": null,
   "metadata": {
    "id": "synLQ_FQyRv9"
   },
   "outputs": [],
   "source": [
    "n = \"grid\"\n",
    "created_at = ctime()\n",
    "created_at = created_at.replace(' ', '-')\n",
    "name = \"{}-{}-{}-{}-class-results.csv\".format(n, SIZE, created_at, CLASSES)\n",
    "with open(os.path.join(FOLDER, 'results', name), 'w') as f:\n",
    "  f.write(\"acc, prec, rec, f1\\n\")\n",
    "  f.write(\"{},{},{},{}\\n\".format(grid_res[0], grid_res[1], grid_res[2], grid_res[3]))  "
   ]
  },
  {
   "cell_type": "markdown",
   "metadata": {
    "id": "hGsc0XwiF1pR"
   },
   "source": [
    "#Random Search"
   ]
  },
  {
   "cell_type": "code",
   "execution_count": 12,
   "metadata": {
    "executionInfo": {
     "elapsed": 743,
     "status": "ok",
     "timestamp": 1602645268636,
     "user": {
      "displayName": "Vinícios Carvalho",
      "photoUrl": "https://lh3.googleusercontent.com/a-/AOh14Gjhp5co0d_AUKLWGcNdVqI7Qn0syOObU223e5VE7Hs=s64",
      "userId": "11287658652742546493"
     },
     "user_tz": 240
    },
    "id": "vPo4S8V2F45D"
   },
   "outputs": [],
   "source": [
    "mdl = svc(probability = True, random_state = 1)\n",
    "rand_list = {\"C\": stats.uniform(2, 10),\n",
    "             \"gamma\": stats.uniform(0.1, 1)}\n",
    "              \n",
    "rand_search = RandomizedSearchCV(mdl, param_distributions = rand_list, n_iter = 20, n_jobs = 4, cv = 3, random_state = 2017, scoring = scorer, verbose=3) \n"
   ]
  },
  {
   "cell_type": "code",
   "execution_count": 13,
   "metadata": {
    "colab": {
     "base_uri": "https://localhost:8080/",
     "height": 107
    },
    "executionInfo": {
     "elapsed": 461867,
     "status": "ok",
     "timestamp": 1602645731089,
     "user": {
      "displayName": "Vinícios Carvalho",
      "photoUrl": "https://lh3.googleusercontent.com/a-/AOh14Gjhp5co0d_AUKLWGcNdVqI7Qn0syOObU223e5VE7Hs=s64",
      "userId": "11287658652742546493"
     },
     "user_tz": 240
    },
    "id": "OwuRejDkQZIH",
    "outputId": "b4db92b9-40d6-42bf-fee1-185e4d8a8429"
   },
   "outputs": [
    {
     "name": "stdout",
     "output_type": "stream",
     "text": [
      "Fitting 3 folds for each of 20 candidates, totalling 60 fits\n"
     ]
    },
    {
     "name": "stderr",
     "output_type": "stream",
     "text": [
      "[Parallel(n_jobs=4)]: Using backend LokyBackend with 4 concurrent workers.\n",
      "[Parallel(n_jobs=4)]: Done  24 tasks      | elapsed:  3.0min\n",
      "[Parallel(n_jobs=4)]: Done  60 out of  60 | elapsed:  7.3min finished\n"
     ]
    },
    {
     "name": "stdout",
     "output_type": "stream",
     "text": [
      "{'C': 11.307729610869862, 'gamma': 0.7495504104423961}\n"
     ]
    }
   ],
   "source": [
    "res = []\n",
    "train_features, train_labels, test_features, test_labels = load_train_test(str('0'))\n",
    "rand_search.fit(train_features, train_labels)\n",
    "print(rand_search.best_params_)"
   ]
  },
  {
   "cell_type": "code",
   "execution_count": null,
   "metadata": {
    "id": "p52aX2OcVkZy"
   },
   "outputs": [],
   "source": [
    "bp = rand_search.best_params_"
   ]
  },
  {
   "cell_type": "code",
   "execution_count": 35,
   "metadata": {
    "colab": {
     "base_uri": "https://localhost:8080/",
     "height": 1000
    },
    "executionInfo": {
     "elapsed": 54163,
     "status": "ok",
     "timestamp": 1602646834841,
     "user": {
      "displayName": "Vinícios Carvalho",
      "photoUrl": "https://lh3.googleusercontent.com/a-/AOh14Gjhp5co0d_AUKLWGcNdVqI7Qn0syOObU223e5VE7Hs=s64",
      "userId": "11287658652742546493"
     },
     "user_tz": 240
    },
    "id": "heKIh2tnazMa",
    "outputId": "d0070bbf-7e70-468b-95e3-42607cd4a117"
   },
   "outputs": [
    {
     "name": "stderr",
     "output_type": "stream",
     "text": [
      "/usr/local/lib/python3.6/dist-packages/sklearn/metrics/_classification.py:1272: UndefinedMetricWarning: Precision is ill-defined and being set to 0.0 in labels with no predicted samples. Use `zero_division` parameter to control this behavior.\n",
      "  _warn_prf(average, modifier, msg_start, len(result))\n"
     ]
    },
    {
     "name": "stdout",
     "output_type": "stream",
     "text": [
      "0      0\n",
      "1      0\n",
      "2      0\n",
      "3      2\n",
      "4      1\n",
      "      ..\n",
      "700    2\n",
      "701    2\n",
      "702    0\n",
      "703    2\n",
      "704    1\n",
      "Name: y, Length: 705, dtype: int64\n",
      "[0 0 2 2 2 2 2 0 2 0 0 0 2 2 2 0 2 2 0 0 2 0 2 0 2 2 0 0 0 2 2 2 2 0 2 0 2\n",
      " 0 2 0 2 2 2 0 2 2 2 2 0 2 2 2 2 0 2 0 0 0 0 0 2 0 2 2 0 0 2 2 2 0 2 2 2 2\n",
      " 2 2 2 0 2 2 2 0 2 2 2 2 2 0 0 2 2 0 0 0 2 0 0 0 2 2 2 2 2 2 2 2 0 2 2 0 2\n",
      " 2 0 0 2 0 2 2 2 0 0 0 0 2 2 2 0 2 2 2 2 2 0 0 2 2 0 0 0 2 2 0 2 0 2 0 0 2\n",
      " 2 2 2 2 0 2 2 0 2 2 0 0 0 0 2 2 2 2 2 2 0 0 2 2 0 2 0 0 2 2 2 2 0 0 2 0 0\n",
      " 0 0 0 2 0 2 0 0 2 0 2 0 2 2 2 0 2 0 0 0 0 0 2 2 2 0 0 0 0 0 0 0 2 2 2 2 2\n",
      " 0 0 2 2 0 2 0 0 2 2 0 0 0 0 0 2 2 0 2 2 2 2 0 0 0 2 0 0 0 2 2 0 2 0 0 2 2\n",
      " 0 0 2 2 0 2 2 2 2 0 2 0 0 2 2 2 2 0 0 2 2 0 2 2 2 2 2 2 2 0 2 0 0 2 0 0 0\n",
      " 0 0 2 0 0 2 2 0 0 0 2 0 2 0 0 0 2 2 0 0 0 2 2 0 0 0 2 2 2 2 2 0 2 2 2 2 0\n",
      " 0 2 0 2 0 0 2 0 0 0 0 2 2 0 2 2 2 0 2 2 0 2 0 0 0 0 0 2 0 2 0 0 0 2 2 2 0\n",
      " 0 0 0 0 2 2 0 2 0 0 0 0 2 0 0 2 2 0 0 0 0 2 0 0 0 2 0 0 2 0 2 2 0 0 2 2 2\n",
      " 0 2 2 0 0 2 0 0 2 2 2 2 0 2 0 2 2 2 0 0 0 2 0 0 2 0 2 0 2 2 2 2 2 2 0 0 0\n",
      " 2 0 0 2 2 0 2 0 2 2 0 0 0 2 2 0 0 2 2 0 0 2 2 0 2 0 0 2 2 2 2 2 2 0 2 0 0\n",
      " 0 0 0 2 2 2 0 2 2 0 2 2 0 2 2 2 2 2 0 2 2 0 0 2 0 2 0 0 0 2 2 0 0 0 0 0 0\n",
      " 2 0 2 0 0 2 2 2 0 2 2 2 2 2 2 2 0 2 2 2 2 0 2 2 2 0 0 2 0 2 0 2 2 2 0 2 2\n",
      " 2 2 0 0 2 0 2 0 0 0 2 2 2 0 2 2 2 0 0 2 2 2 0 2 2 2 2 0 2 2 2 2 0 2 0 2 2\n",
      " 0 2 2 2 0 0 2 2 0 0 0 0 0 2 2 0 2 0 0 2 0 0 2 0 0 0 2 2 0 2 2 2 0 2 2 2 2\n",
      " 2 2 2 2 2 2 2 2 2 2 2 2 0 0 2 0 2 2 2 2 2 2 0 2 0 0 0 0 2 2 0 2 0 0 2 2 2\n",
      " 2 0 2 2 2 0 2 2 0 0 2 0 2 2 2 2 2 0 0 0 2 0 0 2 2 0 0 0 0 0 2 2 0 2 2 2 2\n",
      " 2 0]\n"
     ]
    },
    {
     "name": "stderr",
     "output_type": "stream",
     "text": [
      "/usr/local/lib/python3.6/dist-packages/sklearn/metrics/_classification.py:1272: UndefinedMetricWarning: Precision is ill-defined and being set to 0.0 in labels with no predicted samples. Use `zero_division` parameter to control this behavior.\n",
      "  _warn_prf(average, modifier, msg_start, len(result))\n"
     ]
    },
    {
     "name": "stdout",
     "output_type": "stream",
     "text": [
      "0      0\n",
      "1      0\n",
      "2      0\n",
      "3      0\n",
      "4      0\n",
      "      ..\n",
      "700    2\n",
      "701    0\n",
      "702    2\n",
      "703    2\n",
      "704    1\n",
      "Name: y, Length: 705, dtype: int64\n",
      "[0 0 0 0 0 0 2 2 0 0 2 2 2 2 2 2 0 0 2 2 2 2 0 0 2 2 0 2 2 2 0 0 2 2 2 0 0\n",
      " 2 0 2 2 0 0 2 0 0 0 2 0 2 2 2 2 2 0 2 0 0 2 0 2 0 0 0 0 2 0 0 2 2 2 2 2 0\n",
      " 0 0 0 2 0 2 2 0 2 0 2 0 0 0 0 0 2 0 2 0 0 0 0 0 2 2 2 2 0 2 0 2 2 2 0 2 2\n",
      " 2 0 0 2 2 2 2 0 0 2 2 2 2 0 0 2 0 2 2 2 2 2 2 0 2 2 0 2 2 2 2 2 0 2 2 2 2\n",
      " 0 0 2 0 2 2 0 0 0 2 2 2 0 2 0 0 0 2 0 2 2 2 2 0 0 0 0 2 2 2 2 2 0 0 0 2 2\n",
      " 0 2 2 2 2 2 2 2 0 2 0 2 2 2 0 2 2 0 0 0 0 0 0 2 2 2 0 0 0 0 2 0 0 0 0 2 2\n",
      " 2 0 0 2 0 0 0 2 0 2 0 0 0 2 0 0 0 2 2 2 2 2 0 2 0 2 0 2 2 0 0 2 0 0 0 2 2\n",
      " 2 0 2 2 0 0 2 0 0 0 0 2 2 2 0 0 2 0 2 0 2 0 0 2 2 2 0 0 0 2 2 2 2 2 2 0 2\n",
      " 0 0 0 2 2 0 0 2 0 2 2 0 0 2 2 2 2 0 0 2 2 0 0 0 2 0 2 0 2 2 0 2 2 2 2 2 2\n",
      " 2 2 2 2 2 0 2 0 0 0 0 2 2 0 2 2 2 0 2 0 0 0 0 2 0 0 2 0 2 2 2 2 2 0 2 0 2\n",
      " 0 2 0 2 2 2 0 2 0 0 0 0 2 2 2 0 0 0 0 2 0 0 2 0 2 0 0 2 0 2 0 0 0 0 2 0 2\n",
      " 0 2 2 2 0 2 0 0 0 0 2 0 0 2 2 2 0 0 0 2 2 0 0 0 0 2 2 0 2 2 0 0 0 0 2 0 0\n",
      " 2 2 0 2 0 2 0 2 2 2 0 0 2 2 0 2 0 0 0 2 2 2 0 2 2 0 2 2 2 2 0 0 0 2 2 2 0\n",
      " 0 2 2 2 0 0 2 2 0 0 2 2 0 2 2 0 2 2 2 2 0 2 2 2 0 0 2 2 0 0 0 0 2 0 2 0 0\n",
      " 0 0 0 2 0 0 2 0 2 0 0 2 2 2 0 0 0 0 0 2 0 2 2 0 2 0 0 0 2 2 0 0 0 2 2 2 2\n",
      " 2 2 2 2 2 0 2 2 2 2 0 0 2 2 2 2 0 0 2 2 0 0 0 2 0 0 2 0 2 2 2 0 2 0 0 2 0\n",
      " 0 2 0 2 2 0 0 0 2 0 0 0 2 0 0 2 2 0 0 2 2 2 2 2 0 2 2 2 0 2 0 2 2 0 0 0 0\n",
      " 0 2 0 0 2 0 0 2 2 2 0 0 0 0 0 2 2 2 0 2 0 0 0 0 2 2 0 2 2 0 2 2 0 2 2 0 2\n",
      " 0 0 2 2 2 2 2 2 0 0 2 2 0 2 2 0 2 2 2 2 2 0 2 2 2 2 0 2 2 2 0 2 0 0 2 0 2\n",
      " 2 2]\n"
     ]
    },
    {
     "name": "stderr",
     "output_type": "stream",
     "text": [
      "/usr/local/lib/python3.6/dist-packages/sklearn/metrics/_classification.py:1272: UndefinedMetricWarning: Precision is ill-defined and being set to 0.0 in labels with no predicted samples. Use `zero_division` parameter to control this behavior.\n",
      "  _warn_prf(average, modifier, msg_start, len(result))\n"
     ]
    },
    {
     "name": "stdout",
     "output_type": "stream",
     "text": [
      "0      0\n",
      "1      0\n",
      "2      0\n",
      "3      2\n",
      "4      0\n",
      "      ..\n",
      "700    2\n",
      "701    2\n",
      "702    1\n",
      "703    1\n",
      "704    0\n",
      "Name: y, Length: 705, dtype: int64\n",
      "[2 0 0 0 0 2 0 0 0 2 2 2 2 2 0 2 0 0 2 2 2 2 0 2 2 2 0 2 2 0 0 2 2 0 2 2 0\n",
      " 2 0 2 2 0 2 2 0 2 2 0 0 2 2 0 0 0 0 2 2 0 0 2 2 2 2 2 0 2 0 2 0 0 0 0 2 0\n",
      " 2 0 2 0 2 0 2 2 2 2 0 2 0 2 0 2 0 2 2 2 0 0 0 2 0 2 2 0 0 2 0 2 2 0 0 2 2\n",
      " 0 0 2 0 2 0 0 2 2 2 0 0 2 2 2 0 2 0 0 2 2 0 2 0 0 0 2 2 2 0 2 0 0 0 0 2 0\n",
      " 0 2 2 2 2 0 2 2 0 0 2 2 2 0 2 0 0 0 2 2 0 0 2 0 0 0 2 2 2 2 2 0 2 0 2 0 0\n",
      " 2 2 0 0 2 0 0 0 0 2 0 2 0 0 2 0 2 2 2 2 2 2 2 0 2 2 0 2 2 2 2 0 2 2 0 2 2\n",
      " 0 0 2 2 2 0 2 0 2 2 0 0 0 0 2 0 2 2 0 2 0 0 0 2 2 0 0 2 0 2 2 0 2 2 2 0 2\n",
      " 2 0 0 0 2 0 2 2 2 0 0 0 0 2 2 0 0 0 2 0 2 2 2 2 0 0 0 2 2 0 2 2 0 2 0 0 0\n",
      " 2 2 0 2 2 0 2 0 2 0 2 0 0 2 0 0 2 0 2 0 0 0 0 2 2 2 0 2 2 0 2 0 0 2 2 0 0\n",
      " 2 2 2 2 0 2 0 2 0 2 2 0 0 2 2 0 0 2 0 0 2 2 2 2 2 2 0 2 2 0 2 0 0 2 2 0 2\n",
      " 0 2 2 2 0 2 2 2 2 2 2 2 0 2 2 2 0 2 2 0 0 0 2 0 0 2 2 2 2 2 2 0 2 2 2 2 2\n",
      " 0 2 0 2 0 2 2 0 2 0 0 0 2 0 2 0 0 2 2 0 2 2 0 0 2 0 2 2 0 2 2 0 2 0 2 0 0\n",
      " 2 0 0 0 0 0 0 2 0 0 0 0 0 2 0 0 2 2 2 0 2 0 2 0 0 2 0 2 2 2 2 2 2 0 0 2 2\n",
      " 2 0 0 2 2 0 2 0 0 2 2 2 2 2 0 0 0 0 2 2 2 2 0 2 2 2 2 2 2 0 2 2 2 0 2 2 2\n",
      " 2 2 0 0 2 2 2 0 2 2 0 0 2 2 0 0 0 0 0 2 0 2 0 2 2 2 0 0 0 0 0 2 2 0 0 0 0\n",
      " 2 2 2 0 0 2 0 0 0 0 0 2 2 2 0 0 0 0 2 0 0 2 2 2 0 0 2 2 0 0 2 0 2 2 0 0 2\n",
      " 0 2 2 2 0 2 0 0 0 0 2 0 0 2 2 2 0 2 2 0 2 2 0 2 0 2 0 2 0 2 2 2 2 2 0 2 2\n",
      " 2 2 0 0 2 0 2 0 2 0 2 2 0 0 0 2 0 0 2 0 0 2 2 2 0 2 2 2 2 0 0 0 0 2 2 2 2\n",
      " 2 2 0 0 0 0 0 2 2 2 0 2 0 0 0 0 2 2 2 2 2 2 0 2 0 0 2 2 2 2 2 0 2 2 2 2 0\n",
      " 2 0]\n"
     ]
    },
    {
     "name": "stderr",
     "output_type": "stream",
     "text": [
      "/usr/local/lib/python3.6/dist-packages/sklearn/metrics/_classification.py:1272: UndefinedMetricWarning: Precision is ill-defined and being set to 0.0 in labels with no predicted samples. Use `zero_division` parameter to control this behavior.\n",
      "  _warn_prf(average, modifier, msg_start, len(result))\n"
     ]
    },
    {
     "name": "stdout",
     "output_type": "stream",
     "text": [
      "0      2\n",
      "1      0\n",
      "2      0\n",
      "3      2\n",
      "4      2\n",
      "      ..\n",
      "700    1\n",
      "701    2\n",
      "702    0\n",
      "703    1\n",
      "704    2\n",
      "Name: y, Length: 705, dtype: int64\n",
      "[2 2 2 2 2 0 2 2 0 2 0 2 0 0 0 2 2 2 2 2 2 0 0 0 2 0 0 0 0 0 0 0 0 0 0 2 0\n",
      " 2 2 2 2 0 2 0 0 0 2 2 2 2 0 2 0 0 2 2 2 2 2 0 2 0 0 0 2 2 2 2 2 2 2 2 2 0\n",
      " 0 0 0 0 2 0 2 2 2 2 2 0 0 2 2 0 2 2 0 2 0 0 0 2 0 2 2 2 2 0 0 0 0 0 2 2 2\n",
      " 2 0 2 2 2 0 2 2 2 0 2 2 0 2 2 2 2 0 2 0 2 0 2 2 2 0 2 2 2 2 0 0 2 0 2 2 0\n",
      " 0 2 2 2 2 0 2 2 0 0 0 2 2 2 2 0 2 2 2 0 2 2 2 2 0 2 2 0 2 0 2 0 0 2 2 2 0\n",
      " 2 0 0 0 2 2 0 2 0 2 2 2 0 2 0 2 2 2 2 2 2 0 2 0 0 2 2 0 2 2 2 2 2 2 0 0 0\n",
      " 0 2 0 0 2 0 0 2 0 0 0 2 0 0 2 2 2 2 0 2 2 0 2 0 0 2 2 0 2 2 0 0 0 2 0 0 0\n",
      " 0 2 0 2 2 2 2 2 2 2 0 2 0 2 2 2 0 2 0 0 0 0 2 2 2 2 2 2 2 2 2 0 2 0 2 2 0\n",
      " 2 2 0 2 0 0 2 2 0 0 0 0 2 2 0 2 2 2 0 0 2 2 2 2 0 2 0 2 0 2 0 0 0 0 2 2 2\n",
      " 2 2 0 0 2 0 2 0 2 2 0 2 2 0 0 2 2 2 2 2 0 2 2 2 0 2 2 2 2 0 0 0 0 0 0 2 2\n",
      " 0 2 2 0 0 0 0 0 0 2 2 2 0 2 2 0 2 2 2 0 2 0 0 0 0 0 0 2 0 0 0 2 2 2 2 0 2\n",
      " 0 0 0 2 0 0 0 0 2 0 2 0 2 0 0 2 2 0 2 0 0 0 2 0 0 0 2 0 0 0 2 2 2 0 0 0 2\n",
      " 2 0 0 2 0 2 0 0 2 0 2 2 0 0 2 2 2 2 0 0 2 0 2 2 2 2 0 2 0 0 2 2 2 2 0 2 0\n",
      " 2 0 0 0 2 2 2 2 0 0 2 2 2 2 0 2 0 0 0 2 2 2 0 0 0 2 0 2 0 0 0 0 2 0 0 2 0\n",
      " 2 0 2 0 0 0 2 2 2 2 2 2 0 0 2 2 2 0 0 0 2 2 2 2 0 2 0 0 0 2 2 2 2 0 2 2 0\n",
      " 0 2 0 2 2 2 0 2 0 2 2 2 0 2 0 2 2 0 0 0 0 2 2 0 2 2 0 0 2 0 0 2 2 2 0 0 0\n",
      " 2 0 0 2 0 2 2 0 2 2 2 0 0 2 0 0 2 0 2 2 0 2 0 2 2 2 0 2 2 2 2 2 0 0 0 2 2\n",
      " 2 0 2 2 0 0 2 0 2 2 2 0 0 2 2 2 0 2 2 2 2 0 2 2 2 0 0 0 0 2 2 0 0 2 2 2 0\n",
      " 2 2 0 0 0 2 2 0 2 0 0 2 2 0 2 0 0 2 2 0 2 0 2 2 0 0 2 0 2 2 0 2 0 2 2 2 0\n",
      " 0 0]\n",
      "0      0\n",
      "1      0\n",
      "2      2\n",
      "3      2\n",
      "4      0\n",
      "      ..\n",
      "700    2\n",
      "701    0\n",
      "702    0\n",
      "703    2\n",
      "704    0\n",
      "Name: y, Length: 705, dtype: int64\n",
      "[1 0 2 2 0 2 0 2 2 2 0 0 0 2 2 2 2 0 0 2 0 0 2 2 2 0 0 0 2 0 0 0 0 2 2 2 0\n",
      " 2 2 2 2 0 2 0 0 2 0 0 2 2 2 0 2 0 2 2 2 2 0 0 0 2 0 0 0 2 2 2 2 0 2 2 2 0\n",
      " 2 2 0 0 2 2 0 2 2 0 2 2 0 2 0 2 2 2 0 0 2 0 2 0 2 2 2 0 2 2 2 0 2 2 2 0 2\n",
      " 0 0 0 2 2 2 2 2 0 0 2 0 2 0 2 2 2 2 0 0 0 2 2 2 2 2 0 0 2 2 2 2 2 2 0 2 0\n",
      " 2 2 0 0 2 0 2 2 0 2 0 2 2 2 2 0 2 2 2 0 0 2 2 0 0 0 0 2 2 2 2 0 0 0 0 2 0\n",
      " 2 2 0 2 0 0 2 2 2 2 2 0 2 2 0 2 0 0 0 2 2 2 0 2 0 0 0 0 2 0 0 2 0 2 2 2 2\n",
      " 0 2 0 2 2 2 2 2 2 2 0 0 0 2 2 2 0 0 2 2 2 0 2 2 2 0 0 0 0 0 2 2 0 2 0 0 0\n",
      " 0 2 0 0 0 2 0 0 0 2 0 0 2 2 0 0 2 2 0 0 2 2 0 2 2 0 2 2 0 2 2 2 0 0 2 2 0\n",
      " 2 0 2 0 0 0 2 2 2 0 0 0 0 2 2 0 2 0 2 0 2 2 0 0 0 2 2 2 0 2 2 0 2 0 2 0 2\n",
      " 2 2 0 0 2 0 0 2 0 0 0 0 0 2 2 2 0 2 0 2 2 2 0 0 0 2 2 0 2 2 2 2 2 2 2 2 2\n",
      " 2 0 0 2 0 0 2 0 0 0 0 0 2 2 0 0 2 0 2 0 2 0 2 2 2 0 0 2 2 0 2 0 0 2 0 0 2\n",
      " 0 0 2 2 2 0 0 2 0 2 0 0 2 2 2 2 0 0 0 2 2 2 2 2 0 2 0 0 0 0 2 0 0 0 0 2 2\n",
      " 0 2 2 0 0 2 2 0 0 2 0 2 2 2 0 0 0 2 2 2 0 0 0 2 2 0 2 0 0 2 0 0 2 2 2 0 0\n",
      " 2 0 0 0 0 2 0 0 2 2 0 2 2 2 2 0 0 2 2 0 2 0 2 0 0 2 0 0 0 2 0 0 2 0 2 0 0\n",
      " 0 0 0 2 0 2 0 0 2 2 0 2 0 0 0 2 2 0 0 0 0 2 2 2 0 0 0 0 0 2 2 0 2 2 0 2 2\n",
      " 0 2 2 0 0 2 2 0 2 2 2 0 0 2 0 0 2 2 0 2 2 2 0 0 0 2 2 2 0 2 0 2 0 2 2 2 2\n",
      " 0 2 2 2 0 0 0 0 0 0 0 2 2 2 0 0 2 2 0 0 2 2 0 0 2 2 2 0 2 2 2 0 2 2 2 2 0\n",
      " 2 0 2 0 2 0 0 0 0 2 2 2 0 2 2 0 0 2 2 2 2 2 2 0 0 2 2 2 2 2 2 0 0 0 2 2 2\n",
      " 2 0 0 0 2 2 0 0 2 2 0 2 2 0 0 0 2 0 0 2 2 2 2 0 0 0 2 0 2 0 2 2 2 2 2 0 0\n",
      " 2 2]\n"
     ]
    },
    {
     "name": "stderr",
     "output_type": "stream",
     "text": [
      "/usr/local/lib/python3.6/dist-packages/sklearn/metrics/_classification.py:1272: UndefinedMetricWarning: Precision is ill-defined and being set to 0.0 in labels with no predicted samples. Use `zero_division` parameter to control this behavior.\n",
      "  _warn_prf(average, modifier, msg_start, len(result))\n"
     ]
    },
    {
     "name": "stdout",
     "output_type": "stream",
     "text": [
      "0      2\n",
      "1      2\n",
      "2      2\n",
      "3      2\n",
      "4      0\n",
      "      ..\n",
      "700    2\n",
      "701    2\n",
      "702    1\n",
      "703    2\n",
      "704    0\n",
      "Name: y, Length: 705, dtype: int64\n",
      "[2 2 2 2 2 2 2 0 2 0 2 2 2 0 0 0 0 0 0 2 0 0 2 2 2 0 0 2 2 2 0 2 0 2 2 2 2\n",
      " 2 2 2 0 2 0 0 0 2 0 2 2 2 2 2 0 0 2 2 0 2 2 0 0 2 0 2 0 2 2 0 2 2 2 2 2 0\n",
      " 2 2 2 2 0 2 0 0 0 2 0 0 2 0 0 0 2 0 2 0 0 2 2 0 0 0 0 2 2 0 0 2 2 0 0 2 2\n",
      " 2 0 2 2 2 2 0 2 0 2 0 0 2 0 0 2 0 0 0 0 0 0 0 2 2 0 0 2 2 0 2 0 2 2 2 0 2\n",
      " 2 0 2 0 2 2 2 0 2 0 2 2 0 0 0 2 0 0 0 2 2 0 2 2 0 2 0 0 2 0 0 0 0 0 2 2 2\n",
      " 2 2 0 2 0 0 2 0 2 2 0 2 0 0 0 2 2 0 2 0 0 2 0 2 0 2 0 2 2 0 0 0 0 0 0 2 0\n",
      " 0 2 2 2 2 2 2 0 0 0 2 2 0 2 2 2 0 0 0 0 0 2 2 2 0 0 2 2 0 0 2 2 0 0 2 2 0\n",
      " 2 2 0 0 2 0 0 2 2 2 0 2 2 2 0 0 2 2 0 0 2 2 2 2 2 0 0 0 0 2 0 0 2 2 0 0 2\n",
      " 2 0 2 0 0 0 0 0 2 2 2 2 2 0 2 2 0 0 2 0 0 2 0 2 0 2 0 2 0 0 2 2 2 2 2 2 2\n",
      " 0 0 0 2 2 2 0 0 2 0 2 2 2 2 2 2 0 0 0 2 0 2 2 0 2 0 0 0 2 0 2 2 0 0 0 0 2\n",
      " 0 2 2 2 2 0 0 2 2 0 0 0 0 0 0 0 0 0 0 0 2 0 2 2 2 2 2 0 2 0 0 2 0 2 0 2 2\n",
      " 2 0 2 0 0 0 0 2 0 0 2 2 0 0 0 2 2 2 0 2 0 2 0 2 0 0 0 0 2 0 0 0 2 2 2 2 2\n",
      " 2 0 2 0 2 2 0 2 0 0 0 0 0 0 0 0 2 0 2 0 0 2 0 0 0 2 2 0 2 0 2 0 0 0 2 0 2\n",
      " 0 2 0 0 0 0 0 0 0 2 0 2 2 0 0 0 2 2 0 2 0 0 0 2 0 0 2 2 2 0 2 2 0 2 2 0 0\n",
      " 0 0 2 2 2 0 0 2 0 0 0 2 0 2 2 0 0 2 2 2 2 2 2 2 0 2 0 0 2 0 2 2 0 0 0 0 2\n",
      " 0 0 2 2 0 2 2 0 2 2 0 2 0 2 0 2 0 2 0 0 0 0 2 2 0 0 2 0 0 2 2 2 2 0 2 0 2\n",
      " 0 2 0 0 0 2 2 0 2 0 2 0 0 2 2 2 2 0 0 0 0 0 0 2 2 0 2 2 2 0 0 0 2 2 0 0 2\n",
      " 0 0 2 2 2 0 2 2 0 2 2 2 0 2 0 2 0 0 2 0 0 0 2 2 2 0 0 0 0 0 0 2 0 2 2 2 2\n",
      " 2 0 2 2 0 2 2 0 0 2 2 0 0 2 0 2 2 2 2 0 0 0 2 2 0 2 2 0 0 2 2 0 0 2 2 0 0\n",
      " 2 2]\n"
     ]
    },
    {
     "name": "stderr",
     "output_type": "stream",
     "text": [
      "/usr/local/lib/python3.6/dist-packages/sklearn/metrics/_classification.py:1272: UndefinedMetricWarning: Precision is ill-defined and being set to 0.0 in labels with no predicted samples. Use `zero_division` parameter to control this behavior.\n",
      "  _warn_prf(average, modifier, msg_start, len(result))\n"
     ]
    },
    {
     "name": "stdout",
     "output_type": "stream",
     "text": [
      "0      2\n",
      "1      2\n",
      "2      0\n",
      "3      1\n",
      "4      0\n",
      "      ..\n",
      "700    2\n",
      "701    0\n",
      "702    2\n",
      "703    2\n",
      "704    0\n",
      "Name: y, Length: 705, dtype: int64\n",
      "[0 2 0 2 0 2 2 2 2 2 2 2 2 2 0 0 0 2 2 0 2 2 0 2 2 2 2 0 0 0 0 2 0 2 2 2 2\n",
      " 2 0 2 0 2 0 2 2 0 2 2 2 0 2 0 0 2 0 2 2 2 2 0 2 2 2 2 0 2 2 2 2 2 2 2 0 0\n",
      " 0 2 0 2 2 0 2 0 2 2 0 2 2 0 0 0 2 0 2 2 2 0 0 2 2 2 2 2 2 2 2 0 0 2 0 2 0\n",
      " 2 2 0 2 2 0 2 0 0 0 2 0 2 0 2 0 2 2 2 2 0 2 0 2 0 0 2 0 2 2 0 2 0 2 2 0 2\n",
      " 2 0 2 0 2 2 0 2 2 2 0 2 0 0 0 2 2 2 0 2 0 2 0 0 0 0 0 2 2 0 2 0 0 0 2 0 2\n",
      " 0 2 2 0 0 2 0 2 0 2 0 0 2 2 0 0 2 0 0 2 0 2 2 0 0 2 0 2 2 2 0 2 2 2 2 0 0\n",
      " 0 2 2 2 2 0 0 2 2 0 2 0 0 2 0 0 0 0 0 0 2 0 0 2 2 2 0 0 2 2 2 2 0 0 0 2 0\n",
      " 2 0 0 2 2 2 0 2 2 0 2 0 0 0 0 0 2 2 2 2 2 0 2 2 0 0 2 0 2 2 0 2 2 2 0 2 0\n",
      " 0 2 2 2 0 2 2 2 0 0 0 2 2 2 2 0 2 0 2 0 0 0 2 0 2 2 0 0 0 2 2 0 0 2 0 2 0\n",
      " 2 2 2 0 0 2 0 2 2 2 2 2 2 2 0 0 0 0 2 2 0 2 0 0 2 2 0 0 2 0 0 0 0 0 2 0 0\n",
      " 2 0 0 0 2 2 0 0 0 0 0 2 2 2 0 0 0 2 2 2 0 0 0 2 0 0 0 2 0 2 0 0 2 0 0 0 0\n",
      " 2 0 2 0 2 2 0 0 2 2 0 0 0 0 0 2 0 2 2 0 0 2 0 2 0 0 2 2 2 2 0 0 2 0 0 0 0\n",
      " 2 2 0 2 0 0 2 0 0 0 0 0 2 2 2 2 2 0 0 2 2 0 0 0 0 2 0 2 2 2 2 2 2 2 0 0 0\n",
      " 2 2 2 2 0 2 2 0 0 0 2 2 0 2 2 2 2 2 2 2 2 0 2 0 0 2 2 0 2 2 2 2 0 2 0 0 0\n",
      " 0 0 0 0 2 2 0 2 0 2 0 2 0 0 2 2 2 2 2 0 2 2 2 2 2 0 0 0 2 2 0 0 2 2 2 2 0\n",
      " 2 2 2 2 0 2 2 2 2 2 0 0 0 2 2 2 0 0 0 0 2 0 0 2 2 2 2 2 2 2 0 0 2 0 2 0 2\n",
      " 2 0 0 0 2 2 2 2 0 2 0 2 0 2 2 2 2 0 2 2 2 2 0 0 0 2 2 2 2 2 0 0 2 2 0 0 2\n",
      " 2 0 2 2 0 2 0 2 2 2 2 2 2 2 2 0 2 0 2 0 2 0 2 2 0 0 2 0 2 2 0 2 2 2 2 2 0\n",
      " 2 2 0 0 2 0 2 2 0 0 2 2 2 0 0 0 0 2 0 2 2 2 2 0 0 0 2 2 2 0 0 0 2 0 2 0 0\n",
      " 2 2]\n"
     ]
    },
    {
     "name": "stderr",
     "output_type": "stream",
     "text": [
      "/usr/local/lib/python3.6/dist-packages/sklearn/metrics/_classification.py:1272: UndefinedMetricWarning: Precision is ill-defined and being set to 0.0 in labels with no predicted samples. Use `zero_division` parameter to control this behavior.\n",
      "  _warn_prf(average, modifier, msg_start, len(result))\n"
     ]
    },
    {
     "name": "stdout",
     "output_type": "stream",
     "text": [
      "0      0\n",
      "1      0\n",
      "2      2\n",
      "3      0\n",
      "4      0\n",
      "      ..\n",
      "699    0\n",
      "700    2\n",
      "701    1\n",
      "702    2\n",
      "703    1\n",
      "Name: y, Length: 704, dtype: int64\n",
      "[2 0 2 0 0 0 2 0 0 2 0 0 0 2 2 2 2 0 2 0 0 0 2 0 2 0 0 0 2 0 0 0 2 0 2 0 0\n",
      " 2 2 2 0 2 2 0 0 2 2 0 2 0 2 0 2 0 2 2 2 2 0 0 2 2 0 2 0 0 2 2 2 2 0 2 0 2\n",
      " 2 0 2 2 2 0 2 2 2 2 2 0 0 0 2 2 0 0 2 0 2 0 2 2 0 0 2 2 2 0 2 2 2 2 2 2 0\n",
      " 0 0 0 2 2 0 2 2 0 2 0 2 0 2 2 2 0 0 2 0 0 2 0 0 0 0 0 2 0 2 2 0 0 2 2 2 2\n",
      " 2 2 0 0 2 0 2 0 0 0 2 0 2 2 0 0 0 2 0 2 2 0 2 0 0 0 0 0 0 0 0 0 0 2 0 0 2\n",
      " 0 0 2 2 2 0 2 2 0 0 0 2 2 0 0 2 2 2 2 2 0 2 2 0 0 0 2 0 2 2 0 2 2 0 0 2 0\n",
      " 2 2 0 0 0 2 0 2 0 0 2 2 0 2 2 0 0 2 2 2 2 0 0 0 2 2 0 0 2 0 0 2 0 2 2 0 2\n",
      " 2 0 0 0 2 0 2 2 2 0 0 0 2 0 0 2 2 2 2 2 2 0 0 0 2 2 2 2 2 2 0 0 2 0 2 2 0\n",
      " 2 0 0 0 0 2 2 2 0 2 2 0 2 2 2 0 0 2 0 0 0 2 2 2 2 2 0 2 0 0 2 2 2 2 0 0 0\n",
      " 0 0 2 2 0 0 0 0 0 2 2 2 0 0 0 0 0 0 0 0 0 0 0 0 2 0 2 0 2 2 2 0 2 0 0 2 2\n",
      " 2 0 0 0 0 2 0 2 2 0 2 0 2 2 2 2 0 0 0 0 2 0 0 0 2 2 0 0 2 2 2 2 0 0 0 2 0\n",
      " 2 2 2 2 0 0 2 2 0 2 0 0 2 2 0 2 0 2 2 0 2 2 2 2 0 2 0 2 2 0 0 0 2 0 2 2 0\n",
      " 0 2 0 0 0 2 0 0 0 0 2 0 2 0 0 2 2 2 2 2 0 0 0 2 2 2 2 0 2 0 2 0 0 0 2 2 0\n",
      " 2 0 2 2 2 0 2 2 0 2 2 0 2 2 0 0 2 0 2 2 0 2 0 2 2 2 0 2 0 0 2 0 2 0 2 0 0\n",
      " 2 2 0 2 2 2 0 0 2 0 2 0 2 0 2 2 2 2 0 2 0 2 2 0 0 2 0 0 2 2 2 0 2 0 2 2 0\n",
      " 2 2 0 0 2 0 0 0 2 0 2 0 0 0 0 2 2 2 0 0 2 0 2 2 0 2 2 2 0 2 2 2 2 0 0 2 2\n",
      " 2 2 2 0 2 0 2 2 0 0 2 0 0 0 2 2 0 2 0 2 0 0 2 0 2 2 0 2 0 2 2 2 2 2 0 2 2\n",
      " 2 0 2 0 2 2 0 2 2 0 2 2 2 0 2 2 2 0 2 0 2 0 0 0 2 2 0 2 0 0 2 2 2 2 0 2 2\n",
      " 2 0 2 0 0 2 2 2 2 2 0 2 0 2 0 2 2 2 2 0 0 0 2 2 2 2 2 0 2 2 0 2 2 0 2 2 2\n",
      " 0]\n",
      "0      0\n",
      "1      1\n",
      "2      1\n",
      "3      0\n",
      "4      0\n",
      "      ..\n",
      "699    0\n",
      "700    0\n",
      "701    2\n",
      "702    0\n",
      "703    1\n",
      "Name: y, Length: 704, dtype: int64\n",
      "[0 2 2 2 2 2 0 0 2 0 2 0 2 0 0 2 0 0 0 2 0 2 0 2 2 0 0 0 2 2 0 2 0 2 0 2 2\n",
      " 2 2 2 2 2 0 2 2 2 0 2 2 2 2 0 2 0 2 2 2 2 2 0 0 0 2 2 2 2 2 2 0 2 0 2 2 0\n",
      " 0 0 2 2 2 2 0 0 2 2 2 0 2 0 2 2 0 2 2 2 2 2 2 2 2 2 2 2 2 2 0 0 2 0 2 2 0\n",
      " 2 2 0 0 0 2 2 2 2 2 0 0 0 2 2 2 2 0 0 2 0 2 2 2 2 0 0 2 0 2 0 0 0 0 2 2 2\n",
      " 2 2 2 0 0 2 2 2 2 0 2 2 2 0 2 0 0 0 0 2 0 2 2 2 0 2 2 2 2 2 2 2 2 2 2 2 0\n",
      " 2 2 0 2 2 0 2 2 2 2 2 0 2 2 2 2 2 0 2 2 2 2 2 2 2 2 0 2 2 2 0 2 0 2 2 2 2\n",
      " 0 2 0 0 0 0 0 2 0 2 2 2 0 2 2 2 2 2 0 2 2 0 2 2 0 2 2 2 2 2 0 0 0 0 0 2 2\n",
      " 0 0 0 0 2 2 0 0 2 0 0 0 2 2 2 0 2 0 0 0 2 2 0 0 2 2 0 2 2 2 2 2 2 2 0 0 0\n",
      " 2 0 2 2 0 2 2 2 2 0 2 0 2 2 0 0 2 2 0 0 2 0 2 0 2 2 2 0 0 2 2 0 2 0 2 0 2\n",
      " 2 2 0 0 0 2 2 2 2 2 2 2 2 0 2 0 2 2 2 0 2 2 0 0 0 0 0 2 2 0 0 2 2 2 2 2 0\n",
      " 2 2 2 2 0 0 2 0 0 2 2 2 2 0 2 2 2 2 2 0 2 2 0 2 0 2 0 2 2 0 0 2 2 2 0 2 0\n",
      " 0 0 0 2 0 2 0 2 2 0 2 0 2 0 2 2 2 0 2 2 2 0 2 0 2 0 0 0 0 0 0 2 0 2 2 2 0\n",
      " 2 0 2 2 0 2 0 0 2 2 2 0 2 0 0 0 0 0 0 0 0 2 2 0 0 2 2 0 2 0 2 0 0 2 2 0 0\n",
      " 2 2 0 0 0 2 0 0 2 2 0 2 2 0 0 0 0 0 2 2 0 1 0 2 0 0 2 0 2 2 2 0 1 2 0 0 2\n",
      " 0 0 0 2 0 2 2 2 2 0 0 0 0 2 0 0 0 2 2 0 2 2 2 0 2 2 2 0 0 2 2 2 0 0 2 0 2\n",
      " 2 2 2 0 0 2 2 2 2 2 0 0 2 2 0 0 0 0 2 2 0 2 0 0 0 2 2 2 2 2 0 0 2 0 2 2 0\n",
      " 0 2 2 2 2 0 2 2 0 0 2 2 2 0 2 2 2 2 0 2 2 2 0 2 0 0 2 0 2 0 2 0 0 0 2 2 2\n",
      " 2 2 0 2 0 2 2 2 0 0 2 0 2 0 2 0 0 2 2 0 2 2 0 2 0 0 2 2 2 2 0 2 2 2 0 2 0\n",
      " 2 2 2 2 0 2 2 2 2 2 2 2 0 2 0 0 2 0 2 2 2 2 2 2 0 0 2 2 2 0 2 2 0 2 0 2 0\n",
      " 2]\n",
      "0      0\n",
      "1      2\n",
      "2      2\n",
      "3      0\n",
      "4      2\n",
      "      ..\n",
      "699    0\n",
      "700    2\n",
      "701    2\n",
      "702    1\n",
      "703    2\n",
      "Name: y, Length: 704, dtype: int64\n",
      "[0 0 2 2 2 2 2 0 0 0 0 2 2 2 0 2 2 2 2 0 0 0 0 2 0 2 2 0 0 0 2 0 0 2 0 0 2\n",
      " 2 2 0 0 2 2 2 0 0 2 0 2 0 2 0 2 0 2 2 2 2 0 2 0 2 2 2 2 2 2 2 2 2 0 0 2 2\n",
      " 2 2 2 2 2 0 2 2 2 2 2 2 0 2 2 0 2 0 2 0 0 2 0 2 2 2 0 0 2 2 2 2 2 2 0 0 2\n",
      " 2 0 0 0 2 0 0 2 2 2 2 0 2 0 0 2 2 0 2 0 2 2 2 0 0 0 0 2 0 2 2 0 2 0 0 0 0\n",
      " 0 2 0 2 0 2 2 0 2 0 2 2 2 0 0 2 0 2 2 2 2 0 2 0 0 0 0 0 0 0 2 2 2 0 2 0 2\n",
      " 2 2 2 0 0 2 0 0 0 0 2 0 0 2 2 2 0 2 0 2 0 0 2 2 0 0 2 0 2 0 0 2 0 0 2 0 0\n",
      " 0 2 0 0 0 2 0 0 0 2 0 0 0 0 2 0 2 0 0 0 2 2 0 2 2 2 2 0 2 2 2 2 0 0 2 2 0\n",
      " 2 2 0 0 2 0 0 0 0 2 0 0 0 0 0 2 2 2 0 2 0 0 2 2 0 2 0 2 2 2 0 0 2 2 0 0 2\n",
      " 2 2 2 2 2 0 2 0 0 2 0 2 0 2 0 0 0 0 2 0 0 2 2 2 0 2 0 2 0 2 2 2 0 2 2 0 0\n",
      " 2 2 2 2 0 2 2 2 2 0 0 2 2 0 2 0 2 0 0 2 2 0 0 0 0 2 0 0 0 2 2 2 2 0 0 2 0\n",
      " 2 0 2 0 2 2 0 0 0 2 0 2 2 2 0 0 2 0 2 2 0 2 2 0 2 2 0 0 0 2 2 2 0 2 0 0 0\n",
      " 0 0 0 0 2 0 2 2 0 0 0 2 0 0 0 0 2 2 0 0 0 2 0 0 2 2 0 2 2 2 0 2 2 2 2 0 2\n",
      " 0 0 0 2 2 2 0 2 2 0 2 0 0 0 0 0 0 0 2 0 0 2 0 0 2 2 0 0 0 0 2 2 0 0 2 2 2\n",
      " 2 0 0 0 2 0 0 2 2 0 2 0 2 2 0 0 2 2 0 0 2 2 0 2 2 2 0 2 0 0 2 2 0 2 2 0 0\n",
      " 2 2 0 2 2 0 2 0 0 0 2 0 2 2 0 2 0 2 2 0 0 2 0 2 0 2 0 2 2 2 2 2 2 2 0 0 2\n",
      " 2 0 0 2 0 0 0 0 2 0 2 2 2 2 2 0 2 0 2 2 2 0 2 0 0 0 0 0 2 2 2 0 0 0 2 0 2\n",
      " 2 0 0 0 0 0 2 2 2 2 0 2 2 2 0 2 0 0 0 0 2 0 0 2 2 0 0 0 0 0 2 0 0 2 2 2 2\n",
      " 0 0 0 2 0 0 2 2 2 0 2 2 0 2 0 2 2 2 2 0 0 2 2 2 2 2 2 0 2 0 2 0 0 0 2 2 0\n",
      " 2 0 0 2 0 0 0 2 2 0 0 2 0 0 2 0 0 0 0 2 2 0 2 0 0 2 0 0 0 0 0 2 2 0 2 2 2\n",
      " 2]\n"
     ]
    },
    {
     "name": "stderr",
     "output_type": "stream",
     "text": [
      "/usr/local/lib/python3.6/dist-packages/sklearn/metrics/_classification.py:1272: UndefinedMetricWarning: Precision is ill-defined and being set to 0.0 in labels with no predicted samples. Use `zero_division` parameter to control this behavior.\n",
      "  _warn_prf(average, modifier, msg_start, len(result))\n"
     ]
    }
   ],
   "source": [
    "res = []\n",
    "for fold in range(FOLDS):\n",
    "  train_features, train_labels, test_features, test_labels = load_train_test(str(fold))\n",
    "  # clf = svc(kernel='rbf', C=9.012736172332481, gamma=0.7293403609566396) \n",
    "  clf = svc(kernel='rbf', C=11.307729610869862, gamma=0.7495504104423961) \n",
    "  clf.fit(train_features, train_labels)\n",
    "  rand_res = evaluate(clf, test_features, test_labels)\n",
    "  res.append(rand_res)"
   ]
  },
  {
   "cell_type": "code",
   "execution_count": 19,
   "metadata": {
    "colab": {
     "base_uri": "https://localhost:8080/",
     "height": 89
    },
    "executionInfo": {
     "elapsed": 55674,
     "status": "ok",
     "timestamp": 1602645922291,
     "user": {
      "displayName": "Vinícios Carvalho",
      "photoUrl": "https://lh3.googleusercontent.com/a-/AOh14Gjhp5co0d_AUKLWGcNdVqI7Qn0syOObU223e5VE7Hs=s64",
      "userId": "11287658652742546493"
     },
     "user_tz": 240
    },
    "id": "sofp4DIfTj_J",
    "outputId": "d3af1808-6431-4372-f2bd-ed3b1c1adbc2"
   },
   "outputs": [
    {
     "name": "stdout",
     "output_type": "stream",
     "text": [
      "0.016549783775261347\n",
      "0.019574410589135553\n",
      "0.017420320503793576\n",
      "0.01810382191434988\n"
     ]
    }
   ],
   "source": [
    "res = np.array(res)\n",
    "acc = res[:,0]\n",
    "prec = res[:,1]\n",
    "rec = res[:,2]\n",
    "f = res[:,3]\n",
    "\n",
    "acc_avg = np.average(acc)\n",
    "prec_avg = np.average(prec)\n",
    "rec_avg = np.average(rec)\n",
    "f1_avg = np.average(f)\n",
    "\n",
    "acc_std = np.std(res[:,0])\n",
    "prec_std = np.std(res[:,1])\n",
    "rec_std = np.std(res[:,2])\n",
    "f1_std = np.std(res[:,3])\n",
    "\n",
    "\n",
    "print(np.std(acc))\n",
    "print(np.std(prec))\n",
    "print(np.std(rec))\n",
    "print(np.std(f))"
   ]
  },
  {
   "cell_type": "code",
   "execution_count": 20,
   "metadata": {
    "colab": {
     "base_uri": "https://localhost:8080/",
     "height": 197
    },
    "executionInfo": {
     "elapsed": 54015,
     "status": "ok",
     "timestamp": 1602645922292,
     "user": {
      "displayName": "Vinícios Carvalho",
      "photoUrl": "https://lh3.googleusercontent.com/a-/AOh14Gjhp5co0d_AUKLWGcNdVqI7Qn0syOObU223e5VE7Hs=s64",
      "userId": "11287658652742546493"
     },
     "user_tz": 240
    },
    "id": "Cp7j-fQL9EPT",
    "outputId": "69f0c354-3107-43d7-d43f-ccfe8818661c"
   },
   "outputs": [
    {
     "data": {
      "text/plain": [
       "array([[0.71631206, 0.70220953, 0.6862203 , 0.69066465],\n",
       "       [0.73475177, 0.72756242, 0.69864261, 0.70496745],\n",
       "       [0.74326241, 0.7311713 , 0.71889766, 0.72315453],\n",
       "       [0.77588652, 0.77451606, 0.74425034, 0.75243146],\n",
       "       [0.75177305, 0.74376663, 0.72186987, 0.72810576],\n",
       "       [0.73475177, 0.72444935, 0.70329568, 0.70892532],\n",
       "       [0.73333333, 0.72165674, 0.70412976, 0.70922477],\n",
       "       [0.74715909, 0.73603347, 0.72218639, 0.72684152],\n",
       "       [0.76846591, 0.76268615, 0.74029027, 0.74701438],\n",
       "       [0.74147727, 0.73557692, 0.70628077, 0.71293118]])"
      ]
     },
     "execution_count": 20,
     "metadata": {
      "tags": []
     },
     "output_type": "execute_result"
    }
   ],
   "source": [
    "res"
   ]
  },
  {
   "cell_type": "markdown",
   "metadata": {
    "id": "NTJVt47ET-sc"
   },
   "source": [
    "#Salvando Resultados"
   ]
  },
  {
   "cell_type": "code",
   "execution_count": 21,
   "metadata": {
    "executionInfo": {
     "elapsed": 729,
     "status": "ok",
     "timestamp": 1602646009153,
     "user": {
      "displayName": "Vinícios Carvalho",
      "photoUrl": "https://lh3.googleusercontent.com/a-/AOh14Gjhp5co0d_AUKLWGcNdVqI7Qn0syOObU223e5VE7Hs=s64",
      "userId": "11287658652742546493"
     },
     "user_tz": 240
    },
    "id": "Yu-eVk3uy4fR"
   },
   "outputs": [],
   "source": [
    "n = \"rand\"\n",
    "\n",
    "name = \"{}-{}-{}-{}-class-results.csv\".format(n, SIZE, created_at, CLASSES)\n",
    "with open(os.path.join(FOLDER, 'results', name), 'w') as f:\n",
    "  f.write(\"acc_avg, prec_avg, rec_avg, f1_avg, acc_std, prec_std, rec_std, f1_std\\n\")\n",
    "  f.write(\"{},{},{},{},{},{},{},{}\\n\".format(acc_avg, prec_avg, rec_avg, f1_avg, acc_std, prec_std, rec_std, f1_std))  "
   ]
  },
  {
   "cell_type": "code",
   "execution_count": null,
   "metadata": {
    "colab": {
     "base_uri": "https://localhost:8080/",
     "height": 163
    },
    "executionInfo": {
     "elapsed": 259448,
     "status": "error",
     "timestamp": 1602558293299,
     "user": {
      "displayName": "Vinícios Carvalho",
      "photoUrl": "https://lh3.googleusercontent.com/a-/AOh14Gjhp5co0d_AUKLWGcNdVqI7Qn0syOObU223e5VE7Hs=s64",
      "userId": "11287658652742546493"
     },
     "user_tz": 240
    },
    "id": "nwdhzI3ybNGn",
    "outputId": "781b1a19-9abf-400d-a788-424608f5d15a"
   },
   "outputs": [
    {
     "ename": "NameError",
     "evalue": "ignored",
     "output_type": "error",
     "traceback": [
      "\u001b[0;31m---------------------------------------------------------------------------\u001b[0m",
      "\u001b[0;31mNameError\u001b[0m                                 Traceback (most recent call last)",
      "\u001b[0;32m<ipython-input-18-f27fad4808b8>\u001b[0m in \u001b[0;36m<module>\u001b[0;34m()\u001b[0m\n\u001b[0;32m----> 1\u001b[0;31m \u001b[0mparams\u001b[0m\u001b[0;34m[\u001b[0m\u001b[0;34m'rand'\u001b[0m\u001b[0;34m]\u001b[0m \u001b[0;34m=\u001b[0m \u001b[0mrand_search\u001b[0m\u001b[0;34m.\u001b[0m\u001b[0mbest_params_\u001b[0m\u001b[0;34m\u001b[0m\u001b[0;34m\u001b[0m\u001b[0m\n\u001b[0m",
      "\u001b[0;31mNameError\u001b[0m: name 'rand_search' is not defined"
     ]
    }
   ],
   "source": [
    "params['rand'] = rand_search.best_params_"
   ]
  },
  {
   "cell_type": "code",
   "execution_count": null,
   "metadata": {
    "id": "filpIyBTg8SG"
   },
   "outputs": [],
   "source": [
    "with open(FOLDER+\"params-{}.json\".format(created_at), \"w\") as f:\n",
    "  json.dump(params, f)"
   ]
  }
 ],
 "metadata": {
  "colab": {
   "authorship_tag": "ABX9TyP7Suyf8EPDTuP8ZeujwOl6",
   "collapsed_sections": [],
   "name": "SVM",
   "provenance": [],
   "toc_visible": true
  },
  "kernelspec": {
   "display_name": "Python 3",
   "language": "python",
   "name": "python3"
  },
  "language_info": {
   "codemirror_mode": {
    "name": "ipython",
    "version": 3
   },
   "file_extension": ".py",
   "mimetype": "text/x-python",
   "name": "python",
   "nbconvert_exporter": "python",
   "pygments_lexer": "ipython3",
   "version": "3.7.6"
  }
 },
 "nbformat": 4,
 "nbformat_minor": 1
}
