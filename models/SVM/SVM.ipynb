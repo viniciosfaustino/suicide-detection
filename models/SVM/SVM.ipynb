{
 "cells": [
  {
   "cell_type": "code",
   "execution_count": null,
   "metadata": {
    "colab": {
     "base_uri": "https://localhost:8080/",
     "height": 34
    },
    "colab_type": "code",
    "executionInfo": {
     "elapsed": 578,
     "status": "ok",
     "timestamp": 1586636381172,
     "user": {
      "displayName": "Vinícios Carvalho",
      "photoUrl": "https://lh3.googleusercontent.com/a-/AOh14Gjhp5co0d_AUKLWGcNdVqI7Qn0syOObU223e5VE7Hs=s64",
      "userId": "11287658652742546493"
     },
     "user_tz": 240
    },
    "id": "Upqi-YlEGY_9",
    "outputId": "5721ae5e-8a2b-4edb-bd80-9099b14a1d9c"
   },
   "outputs": [],
   "source": [
    "CLASSES = 'b'\n",
    "SIZE = \"2k4\"\n",
    "\n",
    "%tensorflow_version 1.x\n",
    "SIZE = \"2k4\"\n",
    "C = \"b\"\n",
    "FOLDER = \"/\" #path to model folder\n",
    "FOLDS_PATH = \"/\" #path where the folds are saved\n",
    "DATA_FOLDER = \"/\" #path where the entire dataset is saved\n",
    "\n",
    "CLASS_NAME = {2:['Sem Risco', 'Risco Potencial'], 3:['Sem Risco', 'Risco Potencial', 'Risco Alto']}"
   ]
  },
  {
   "cell_type": "code",
   "execution_count": null,
   "metadata": {
    "colab": {},
    "colab_type": "code",
    "id": "ERyh40tNFaOD"
   },
   "outputs": [],
   "source": [
    "from time import ctime\n",
    "\n",
    "import json\n",
    "import os\n",
    "import numpy as np\n",
    "import pandas as pd\n",
    "import sklearn.svm as svm\n",
    "\n",
    "from scipy import stats\n",
    "from sklearn import preprocessing\n",
    "from sklearn.metrics import make_scorer, roc_auc_score, f1_score, precision_score, recall_score, accuracy_score\n",
    "from sklearn.model_selection import GridSearchCV, RandomizedSearchCV \n",
    "from sklearn.svm import SVC as svc "
   ]
  },
  {
   "cell_type": "code",
   "execution_count": null,
   "metadata": {
    "colab": {},
    "colab_type": "code",
    "id": "x2qVaMtR49or"
   },
   "outputs": [],
   "source": [
    "created_at = ctime()\n",
    "created_at = created_at.replace(' ', '-')"
   ]
  },
  {
   "cell_type": "markdown",
   "metadata": {
    "colab_type": "text",
    "id": "_SAR9AvzdZ84"
   },
   "source": [
    "#Definindo funções de métrica"
   ]
  },
  {
   "cell_type": "code",
   "execution_count": null,
   "metadata": {
    "colab": {},
    "colab_type": "code",
    "id": "QgX7fK6Rdd9H"
   },
   "outputs": [],
   "source": [
    "accuracy = make_scorer(precision_score)\n",
    "f1 = make_scorer(f1_score, average='macro')\n",
    "precision = make_scorer(precision_score, average='macro')\n",
    "recall = make_scorer(recall_score, average='macro')\n",
    "\n",
    "scorer = make_scorer(f1_score, average='macro')"
   ]
  },
  {
   "cell_type": "code",
   "execution_count": null,
   "metadata": {
    "colab": {},
    "colab_type": "code",
    "id": "cANLVliod-Rv"
   },
   "outputs": [],
   "source": [
    "def evaluate(clf, X, y):\n",
    "  y_pred = clf.predict(X)\n",
    "  acc = accuracy_score(y, y_pred)\n",
    "  print(acc)\n",
    "  result = [acc, precision(clf, X, y), recall(clf, X, y), f1(clf, X,y)]\n",
    "  return result"
   ]
  },
  {
   "cell_type": "code",
   "execution_count": null,
   "metadata": {
    "colab": {},
    "colab_type": "code",
    "id": "nWSckyv316Zw"
   },
   "outputs": [],
   "source": [
    "params = {}"
   ]
  },
  {
   "cell_type": "markdown",
   "metadata": {
    "colab_type": "text",
    "id": "NCYEU0OdFmIL"
   },
   "source": [
    "#Carregando dataset"
   ]
  },
  {
   "cell_type": "code",
   "execution_count": null,
   "metadata": {
    "colab": {},
    "colab_type": "code",
    "id": "_wPrIu3rFnnL"
   },
   "outputs": [],
   "source": [
    "df_train = pd.read_csv(DATA_FOLDER+\"ideacao-{}-{}-train.csv\".format(SIZE, CLASSES), sep='\\t')\n",
    "df_test = pd.read_csv(DATA_FOLDER+\"ideacao-{}-{}-test.csv\".format(SIZE, CLASSES), sep='\\t')\n",
    "\n",
    "\n",
    "cols = [str(i) for i in range(50)]\n",
    "\n",
    "df_train['embedding'] = df_train.loc[:,'0':'49'].values.tolist()\n",
    "df_test['embedding'] = df_test.loc[:,'0':'49'].values.tolist()\n",
    "\n",
    "df_train.drop(cols, axis=1, inplace=True)\n",
    "df_test.drop(cols, axis=1, inplace=True)\n",
    "\n",
    "\n",
    "train_features = df_train['embedding']\n",
    "train_labels = df_train['y']\n",
    "\n",
    "test_features = df_test['embedding']\n",
    "test_labels = df_test['y']\n",
    "\n",
    "\n",
    "X = []\n",
    "for t in train_features:\n",
    "  X.append(np.array(t))\n",
    "train_features = np.array(X)\n",
    "\n",
    "X = []\n",
    "for t in test_features:\n",
    "  X.append(np.array(t))\n",
    "test_features = np.array(X)\n"
   ]
  },
  {
   "cell_type": "markdown",
   "metadata": {
    "colab_type": "text",
    "id": "dXiO2vZDFphS"
   },
   "source": [
    "#Definindo modelo"
   ]
  },
  {
   "cell_type": "code",
   "execution_count": null,
   "metadata": {
    "colab": {},
    "colab_type": "code",
    "id": "RVTsyZLqKpux"
   },
   "outputs": [],
   "source": [
    "def svc_param_selection(X, y, nfolds):\n",
    "    Cs = [0.001, 0.01, 0.1, 1, 10, 100, 1000]    \n",
    "    gammas = [0.001, 0.01, 0.1, 1, 10, 100]    \n",
    "    param_grid = {'C': Cs, 'gamma' : gammas}\n",
    "    grid_search = GridSearchCV(svc(kernel='rbf'), param_grid, cv=nfolds, scoring=scorer, verbose=1)\n",
    "    grid_search.fit(X, y)    \n",
    "    grid_search.best_params_\n",
    "    return grid_search"
   ]
  },
  {
   "cell_type": "code",
   "execution_count": null,
   "metadata": {
    "colab": {
     "base_uri": "https://localhost:8080/",
     "height": 69
    },
    "colab_type": "code",
    "executionInfo": {
     "elapsed": 159916,
     "status": "ok",
     "timestamp": 1586636576092,
     "user": {
      "displayName": "Vinícios Carvalho",
      "photoUrl": "https://lh3.googleusercontent.com/a-/AOh14Gjhp5co0d_AUKLWGcNdVqI7Qn0syOObU223e5VE7Hs=s64",
      "userId": "11287658652742546493"
     },
     "user_tz": 240
    },
    "id": "LNRA7VBBLFvL",
    "outputId": "2fa1f248-d53b-40ae-fff1-20dde2e2129a"
   },
   "outputs": [],
   "source": [
    "grid_search = svc_param_selection(train_features, train_labels, 10)"
   ]
  },
  {
   "cell_type": "code",
   "execution_count": null,
   "metadata": {
    "colab": {},
    "colab_type": "code",
    "id": "q3VM-F801-Zs"
   },
   "outputs": [],
   "source": [
    "params['grid'] = grid_search.best_params_"
   ]
  },
  {
   "cell_type": "code",
   "execution_count": null,
   "metadata": {
    "colab": {
     "base_uri": "https://localhost:8080/",
     "height": 34
    },
    "colab_type": "code",
    "executionInfo": {
     "elapsed": 159724,
     "status": "ok",
     "timestamp": 1586636576878,
     "user": {
      "displayName": "Vinícios Carvalho",
      "photoUrl": "https://lh3.googleusercontent.com/a-/AOh14Gjhp5co0d_AUKLWGcNdVqI7Qn0syOObU223e5VE7Hs=s64",
      "userId": "11287658652742546493"
     },
     "user_tz": 240
    },
    "id": "OLy2_zezRQV0",
    "outputId": "85eede00-4633-4ad7-81ec-4b43f86ca66d"
   },
   "outputs": [],
   "source": [
    "clf = svc(kernel='rbf', C=params['grid']['C'], gamma=params['grid']['gamma']) \n",
    "clf.fit(train_features, train_labels)\n",
    "grid_res = evaluate(clf, test_features, test_labels)"
   ]
  },
  {
   "cell_type": "markdown",
   "metadata": {
    "colab_type": "text",
    "id": "ynU_v6mRTTB0"
   },
   "source": [
    "#Salvando Resultados"
   ]
  },
  {
   "cell_type": "code",
   "execution_count": null,
   "metadata": {
    "colab": {},
    "colab_type": "code",
    "id": "synLQ_FQyRv9"
   },
   "outputs": [],
   "source": [
    "n = \"grid\"\n",
    "name = \"{}-{}-{}-{}-class-results.csv\".format(n, SIZE, created_at, CLASSES)\n",
    "with open(os.path.join(FOLDER, 'results', name), 'w') as f:\n",
    "  f.write(\"acc, prec, rec, f1\\n\")\n",
    "  f.write(\"{},{},{},{}\\n\".format(grid_res[0], grid_res[1], grid_res[2], grid_res[3]))  "
   ]
  },
  {
   "cell_type": "markdown",
   "metadata": {
    "colab_type": "text",
    "id": "hGsc0XwiF1pR"
   },
   "source": [
    "#Random Search"
   ]
  },
  {
   "cell_type": "code",
   "execution_count": null,
   "metadata": {
    "colab": {
     "base_uri": "https://localhost:8080/",
     "height": 34
    },
    "colab_type": "code",
    "executionInfo": {
     "elapsed": 195764,
     "status": "ok",
     "timestamp": 1586636613539,
     "user": {
      "displayName": "Vinícios Carvalho",
      "photoUrl": "https://lh3.googleusercontent.com/a-/AOh14Gjhp5co0d_AUKLWGcNdVqI7Qn0syOObU223e5VE7Hs=s64",
      "userId": "11287658652742546493"
     },
     "user_tz": 240
    },
    "id": "vPo4S8V2F45D",
    "outputId": "b3e646e1-396a-4357-8485-62037893e83b"
   },
   "outputs": [],
   "source": [
    "mdl = svc(probability = True, random_state = 1)\n",
    "rand_list = {\"C\": stats.uniform(2, 10),\n",
    "             \"gamma\": stats.uniform(0.1, 1)}\n",
    "              \n",
    "rand_search = RandomizedSearchCV(mdl, param_distributions = rand_list, n_iter = 20, n_jobs = 4, cv = 3, random_state = 2017, scoring = scorer) \n",
    "rand_search.fit(train_features, train_labels) \n",
    "rand_search.best_params_"
   ]
  },
  {
   "cell_type": "code",
   "execution_count": null,
   "metadata": {
    "colab": {},
    "colab_type": "code",
    "id": "p52aX2OcVkZy"
   },
   "outputs": [],
   "source": [
    "bp = rand_search.best_params_"
   ]
  },
  {
   "cell_type": "code",
   "execution_count": null,
   "metadata": {
    "colab": {
     "base_uri": "https://localhost:8080/",
     "height": 34
    },
    "colab_type": "code",
    "executionInfo": {
     "elapsed": 196487,
     "status": "ok",
     "timestamp": 1586636614562,
     "user": {
      "displayName": "Vinícios Carvalho",
      "photoUrl": "https://lh3.googleusercontent.com/a-/AOh14Gjhp5co0d_AUKLWGcNdVqI7Qn0syOObU223e5VE7Hs=s64",
      "userId": "11287658652742546493"
     },
     "user_tz": 240
    },
    "id": "heKIh2tnazMa",
    "outputId": "4b42d506-1ae2-4760-cd9c-62dff5223970"
   },
   "outputs": [],
   "source": [
    "clf = svc(kernel='rbf', C=bp['C'], gamma=bp['gamma']) \n",
    "clf.fit(train_features, train_labels)\n",
    "rand_res = evaluate(clf, test_features, test_labels)"
   ]
  },
  {
   "cell_type": "markdown",
   "metadata": {
    "colab_type": "text",
    "id": "NTJVt47ET-sc"
   },
   "source": [
    "#Salvando Resultados"
   ]
  },
  {
   "cell_type": "code",
   "execution_count": null,
   "metadata": {
    "colab": {},
    "colab_type": "code",
    "id": "Yu-eVk3uy4fR"
   },
   "outputs": [],
   "source": [
    "n = \"rand\"\n",
    "\n",
    "name = \"{}-{}-{}-{}-class-results.csv\".format(n, SIZE, created_at, CLASSES)\n",
    "with open(os.path.join(FOLDER, 'results', name), 'w') as f:\n",
    "  f.write(\"acc, prec, rec, f1\\n\")\n",
    "  f.write(\"{},{},{},{}\\n\".format(rand_res[0], rand_res[1], rand_res[2], rand_res[3]))  "
   ]
  },
  {
   "cell_type": "code",
   "execution_count": null,
   "metadata": {
    "colab": {},
    "colab_type": "code",
    "id": "nwdhzI3ybNGn"
   },
   "outputs": [],
   "source": [
    "params['rand'] = rand_search.best_params_"
   ]
  },
  {
   "cell_type": "code",
   "execution_count": null,
   "metadata": {
    "colab": {},
    "colab_type": "code",
    "id": "filpIyBTg8SG"
   },
   "outputs": [],
   "source": [
    "with open(FOLDER+\"params-{}.json\".format(created_at), \"w\") as f:\n",
    "  json.dump(params, f)"
   ]
  },
  {
   "cell_type": "code",
   "execution_count": null,
   "metadata": {
    "colab": {},
    "colab_type": "code",
    "id": "A8qSQYtk3bmQ"
   },
   "outputs": [],
   "source": []
  }
 ],
 "metadata": {
  "colab": {
   "authorship_tag": "ABX9TyPyatteNe63ePv0qumC1NZP",
   "collapsed_sections": [],
   "name": "SVM",
   "provenance": [],
   "toc_visible": true
  },
  "kernelspec": {
   "display_name": "Python 3",
   "language": "python",
   "name": "python3"
  },
  "language_info": {
   "codemirror_mode": {
    "name": "ipython",
    "version": 3
   },
   "file_extension": ".py",
   "mimetype": "text/x-python",
   "name": "python",
   "nbconvert_exporter": "python",
   "pygments_lexer": "ipython3",
   "version": "3.7.6"
  }
 },
 "nbformat": 4,
 "nbformat_minor": 1
}
