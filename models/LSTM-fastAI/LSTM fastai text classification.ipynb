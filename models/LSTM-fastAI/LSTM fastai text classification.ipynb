{
 "cells": [
  {
   "cell_type": "code",
   "execution_count": null,
   "metadata": {
    "colab": {
     "base_uri": "https://localhost:8080/",
     "height": 34
    },
    "colab_type": "code",
    "executionInfo": {
     "elapsed": 2310,
     "status": "ok",
     "timestamp": 1587677211835,
     "user": {
      "displayName": "Vinícios Carvalho",
      "photoUrl": "https://lh3.googleusercontent.com/a-/AOh14Gjhp5co0d_AUKLWGcNdVqI7Qn0syOObU223e5VE7Hs=s64",
      "userId": "11287658652742546493"
     },
     "user_tz": 240
    },
    "id": "VEAmgQ0q6TX9",
    "outputId": "8256d5e6-e24f-4883-f51f-46ff649ad26b"
   },
   "outputs": [],
   "source": [
    "%tensorflow_version 1.x\n",
    "SIZE = \"2k4\"\n",
    "C = \"b\"\n",
    "FOLDER = \"/\" #path to model folder\n",
    "FOLDS_PATH = \"/\" #path where the folds are saved\n",
    "DATA_FOLDER = \"/\" #path where the entire dataset is saved\n",
    "BATCH_SIZE = 32 \n",
    "\n",
    "CLASS_NAME = {2:['Sem Risco', 'Risco Potencial'], 3:['Sem Risco', 'Risco Potencial', 'Risco Alto']}"
   ]
  },
  {
   "cell_type": "code",
   "execution_count": null,
   "metadata": {
    "colab": {},
    "colab_type": "code",
    "id": "xcjyMlu_jcH2"
   },
   "outputs": [],
   "source": [
    "import numpy as np \n",
    "import pandas as pd \n",
    "import os\n",
    "from pathlib import Path\n",
    "from fastai.text import *\n",
    "from time import ctime\n"
   ]
  },
  {
   "cell_type": "code",
   "execution_count": null,
   "metadata": {
    "colab": {
     "base_uri": "https://localhost:8080/",
     "height": 34
    },
    "colab_type": "code",
    "executionInfo": {
     "elapsed": 4501,
     "status": "ok",
     "timestamp": 1587677267451,
     "user": {
      "displayName": "Vinícios Carvalho",
      "photoUrl": "https://lh3.googleusercontent.com/a-/AOh14Gjhp5co0d_AUKLWGcNdVqI7Qn0syOObU223e5VE7Hs=s64",
      "userId": "11287658652742546493"
     },
     "user_tz": 240
    },
    "id": "omeHRKMqjd4m",
    "outputId": "6e14fec7-f9a3-450e-9cab-b538add4f3df"
   },
   "outputs": [],
   "source": [
    "from google.colab import drive\n",
    "drive.mount('/content/drive')"
   ]
  },
  {
   "cell_type": "markdown",
   "metadata": {
    "colab_type": "text",
    "id": "vK0jzpPh4Vxa"
   },
   "source": [
    "#Loading dataset and doing cross validation"
   ]
  },
  {
   "cell_type": "code",
   "execution_count": null,
   "metadata": {
    "colab": {
     "base_uri": "https://localhost:8080/",
     "height": 1000
    },
    "colab_type": "code",
    "executionInfo": {
     "elapsed": 167121,
     "status": "ok",
     "timestamp": 1587668648061,
     "user": {
      "displayName": "Vinícios Carvalho",
      "photoUrl": "https://lh3.googleusercontent.com/a-/AOh14Gjhp5co0d_AUKLWGcNdVqI7Qn0syOObU223e5VE7Hs=s64",
      "userId": "11287658652742546493"
     },
     "user_tz": 240
    },
    "id": "S4BazJUBC7Q7",
    "outputId": "217638f6-f751-4473-b3bc-a95873c87be4"
   },
   "outputs": [],
   "source": [
    "folds = int(len([name for name in os.listdir(FOLDS_PATH) if os.path.isfile(os.path.join(FOLDS_PATH,name))]) / 2)\n",
    "print(\"Training on {} folds\".format(folds))\n",
    "\n",
    "val_acc = []\n",
    "val_prec = []\n",
    "val_rec = []\n",
    "val_f1 = []\n",
    "\n",
    "\n",
    "for f in range(int(folds)):  \n",
    "  df_train = pd.read_csv(FOLDS_PATH + \"train\"+str(f) + \".csv\", sep=\"\\t\", index_col=False)\n",
    "  df_valid = pd.read_csv(FOLDS_PATH + \"test\"+str(f) + \".csv\", sep=\"\\t\", index_col=False)\n",
    "  print(\"Fold\",f,'\\n')\n",
    "  data_lm = TextLMDataBunch.from_df(path=FOLDER,\n",
    "                                  train_df=df_train,\n",
    "                                  valid_df=df_valid, \n",
    "                                  label_cols='y', \n",
    "                                  text_cols='text')\n",
    "\n",
    "  lm = language_model_learner(data_lm, AWD_LSTM, drop_mult=0.3)\n",
    "  lm.save_encoder(FOLDER+'language_model')\n",
    "\n",
    "  data_clas = TextClasDataBunch.from_df(path=FOLDER,\n",
    "                                      train_df=df_train, \n",
    "                                      valid_df=df_valid, \n",
    "                                      vocab=data_lm.train_ds.vocab,\n",
    "                                      label_cols='y',\n",
    "                                      text_cols='text')\n",
    "  \n",
    "  learner = text_classifier_learner(data_clas, \n",
    "                                 AWD_LSTM,\n",
    "                                 drop_mult=0.3,                                 \n",
    "                                 metrics=[accuracy,\n",
    "                                          Precision(average=\"macro\"), \n",
    "                                          Recall(average=\"macro\"), \n",
    "                                          FBeta(average=\"macro\", beta=1)])  \n",
    "  learner.load_encoder(FOLDER+'language_model')\n",
    "  # learner.lr_find()\n",
    "  # learner.recorder.plot()\n",
    "  learner.fit_one_cycle(5, max_lr=1e-2)\n",
    "\n",
    "  loss_value, acc_value, prec_value, rec_value, f1_value = learner.validate()\n",
    "  val_acc.append(acc_value.item())\n",
    "  val_prec.append(prec_value.item())\n",
    "  val_rec.append(rec_value.item())\n",
    "  val_f1.append(f1_value.item())"
   ]
  },
  {
   "cell_type": "markdown",
   "metadata": {
    "colab_type": "text",
    "id": "TkpYEC2bFIiy"
   },
   "source": [
    "#Classificador com Holdout"
   ]
  },
  {
   "cell_type": "code",
   "execution_count": null,
   "metadata": {
    "colab": {
     "base_uri": "https://localhost:8080/",
     "height": 221
    },
    "colab_type": "code",
    "executionInfo": {
     "elapsed": 184042,
     "status": "ok",
     "timestamp": 1587668664993,
     "user": {
      "displayName": "Vinícios Carvalho",
      "photoUrl": "https://lh3.googleusercontent.com/a-/AOh14Gjhp5co0d_AUKLWGcNdVqI7Qn0syOObU223e5VE7Hs=s64",
      "userId": "11287658652742546493"
     },
     "user_tz": 240
    },
    "id": "g66-yWxIFMfL",
    "outputId": "d7065bd6-cde8-4eb8-d5db-3e714e419042"
   },
   "outputs": [],
   "source": [
    "learner.destroy()\n",
    "train_df = pd.read_csv(DATA_FOLDER + \"ideacao-{}-{}-train.csv\".format(SIZE, C), sep=\"\\t\", index_col=False)\n",
    "test_df = pd.read_csv(DATA_FOLDER + \"ideacao-{}-{}-test.csv\".format(SIZE, C), sep=\"\\t\", index_col=False)\n",
    "\n",
    "CLASSES = len(df_valid['y'].unique())\n",
    "\n",
    "\n",
    "data_lm = TextLMDataBunch.from_df(path=FOLDER,\n",
    "                                  train_df=df_train,\n",
    "                                  valid_df=df_valid, \n",
    "                                  label_cols='y', \n",
    "                                  text_cols='text')\n",
    "\n",
    "data_lm.save(FOLDER+'data_lm.pkl')\n",
    "\n",
    "lm = language_model_learner(data_lm, AWD_LSTM, drop_mult=0.3)\n",
    "lm.save_encoder(FOLDER+'language_model')\n",
    "\n",
    "data_clas=TextClasDataBunch.from_df(path=FOLDER,\n",
    "                                    train_df=df_train, \n",
    "                                    valid_df=df_valid, \n",
    "                                    vocab=data_lm.train_ds.vocab,\n",
    "                                    label_cols='y',\n",
    "                                    text_cols='text')\n",
    "h_learner = text_classifier_learner(data_clas,AWD_LSTM,drop_mult=0.3, \n",
    "                               metrics=[accuracy, Precision(average=\"macro\"), \n",
    "                                        Recall(average=\"macro\"), \n",
    "                                        FBeta(average=\"macro\", beta=1)])\n",
    "h_learner.load_encoder(FOLDER+'language_model')\n",
    "\n",
    "h_learner.fit_one_cycle(5, max_lr=1e-2)\n",
    "loss, acc, prec, rec, f1 = h_learner.validate()"
   ]
  },
  {
   "cell_type": "markdown",
   "metadata": {
    "colab_type": "text",
    "id": "4LUHUBvEGiOZ"
   },
   "source": [
    "#Salvando resultados em arquivo"
   ]
  },
  {
   "cell_type": "code",
   "execution_count": null,
   "metadata": {
    "colab": {},
    "colab_type": "code",
    "id": "vKLg6m4GGlyC"
   },
   "outputs": [],
   "source": [
    "created_at = ctime()\n",
    "created_at = created_at.replace(' ', '-')\n",
    "name = \"{}-{}-{}-{}-results.csv\".format(\"LSTM\", SIZE, C, created_at)\n",
    "with open(os.path.join(FOLDER, 'results', name), 'w') as f:\n",
    "  f.write(\"folds, acc, prec, rec, f1\\n\")\n",
    "  f.write(\"{},{},{},{},{}\\n\".format(folds, np.mean(val_acc), np.mean(val_prec), np.mean(val_rec), np.mean(val_f1)))\n",
    "  f.write(\"{},{},{},{},{}\\n\".format('-', acc, prec, rec, f1))"
   ]
  },
  {
   "cell_type": "code",
   "execution_count": null,
   "metadata": {
    "colab": {},
    "colab_type": "code",
    "id": "9gRsC1pqTGA4"
   },
   "outputs": [],
   "source": []
  }
 ],
 "metadata": {
  "accelerator": "GPU",
  "colab": {
   "authorship_tag": "ABX9TyMjp/jA7rTWIxXXVckDd3YP",
   "collapsed_sections": [],
   "mount_file_id": "1sVE_nTZDv4kbCLNSOO0eVRrw88N2cqeF",
   "name": "LSTM fastai text classification.ipynb",
   "provenance": [],
   "toc_visible": true
  },
  "kernelspec": {
   "display_name": "Python 3",
   "language": "python",
   "name": "python3"
  },
  "language_info": {
   "codemirror_mode": {
    "name": "ipython",
    "version": 3
   },
   "file_extension": ".py",
   "mimetype": "text/x-python",
   "name": "python",
   "nbconvert_exporter": "python",
   "pygments_lexer": "ipython3",
   "version": "3.7.6"
  }
 },
 "nbformat": 4,
 "nbformat_minor": 1
}
