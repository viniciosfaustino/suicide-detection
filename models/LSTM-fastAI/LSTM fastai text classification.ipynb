{
 "cells": [
  {
   "cell_type": "code",
   "execution_count": 15,
   "metadata": {
    "executionInfo": {
     "elapsed": 675,
     "status": "ok",
     "timestamp": 1602604593816,
     "user": {
      "displayName": "Vinícios Carvalho",
      "photoUrl": "https://lh3.googleusercontent.com/a-/AOh14Gjhp5co0d_AUKLWGcNdVqI7Qn0syOObU223e5VE7Hs=s64",
      "userId": "11287658652742546493"
     },
     "user_tz": 240
    },
    "id": "VEAmgQ0q6TX9"
   },
   "outputs": [],
   "source": [
    "%tensorflow_version 1.x\n",
    "SIZE = \"2k4\"\n",
    "C = \"b\"\n",
    "CLASSES = 2\n",
    "FOLDER = \"\"\n",
    "FOLDS_PATH = \"\".format(SIZE,C)\n",
    "DATA_FOLDER = \"\"\n",
    "BATCH_SIZE = 32\n",
    "\n",
    "CLASS_NAME = {2:['Sem Risco', 'Risco Potencial'], 3:['Sem Risco', 'Risco Potencial', 'Risco Alto']}"
   ]
  },
  {
   "cell_type": "code",
   "execution_count": 6,
   "metadata": {
    "executionInfo": {
     "elapsed": 477,
     "status": "ok",
     "timestamp": 1602602231497,
     "user": {
      "displayName": "Vinícios Carvalho",
      "photoUrl": "https://lh3.googleusercontent.com/a-/AOh14Gjhp5co0d_AUKLWGcNdVqI7Qn0syOObU223e5VE7Hs=s64",
      "userId": "11287658652742546493"
     },
     "user_tz": 240
    },
    "id": "xcjyMlu_jcH2"
   },
   "outputs": [],
   "source": [
    "import numpy as np \n",
    "import pandas as pd \n",
    "import os\n",
    "from pathlib import Path\n",
    "from fastai.text import *\n",
    "from time import ctime\n"
   ]
  },
  {
   "cell_type": "code",
   "execution_count": 7,
   "metadata": {
    "colab": {
     "base_uri": "https://localhost:8080/",
     "height": 34
    },
    "executionInfo": {
     "elapsed": 574,
     "status": "ok",
     "timestamp": 1602602232043,
     "user": {
      "displayName": "Vinícios Carvalho",
      "photoUrl": "https://lh3.googleusercontent.com/a-/AOh14Gjhp5co0d_AUKLWGcNdVqI7Qn0syOObU223e5VE7Hs=s64",
      "userId": "11287658652742546493"
     },
     "user_tz": 240
    },
    "id": "omeHRKMqjd4m",
    "outputId": "fe9fc8a4-0b9b-42f1-ed18-d57205f6288f"
   },
   "outputs": [
    {
     "name": "stdout",
     "output_type": "stream",
     "text": [
      "Drive already mounted at /content/drive; to attempt to forcibly remount, call drive.mount(\"/content/drive\", force_remount=True).\n"
     ]
    }
   ],
   "source": [
    "from google.colab import drive\n",
    "drive.mount('/content/drive')"
   ]
  },
  {
   "cell_type": "markdown",
   "metadata": {
    "id": "vK0jzpPh4Vxa"
   },
   "source": [
    "#Loading dataset and doing cross validation"
   ]
  },
  {
   "cell_type": "code",
   "execution_count": 16,
   "metadata": {
    "colab": {
     "base_uri": "https://localhost:8080/",
     "height": 1000
    },
    "executionInfo": {
     "elapsed": 134605,
     "status": "ok",
     "timestamp": 1602604730498,
     "user": {
      "displayName": "Vinícios Carvalho",
      "photoUrl": "https://lh3.googleusercontent.com/a-/AOh14Gjhp5co0d_AUKLWGcNdVqI7Qn0syOObU223e5VE7Hs=s64",
      "userId": "11287658652742546493"
     },
     "user_tz": 240
    },
    "id": "S4BazJUBC7Q7",
    "outputId": "4ef56352-7f7d-498c-ecec-af6d6aefedbb"
   },
   "outputs": [
    {
     "name": "stdout",
     "output_type": "stream",
     "text": [
      "Training on 10 folds\n",
      "Fold 0 \n",
      "\n"
     ]
    },
    {
     "data": {
      "text/html": [],
      "text/plain": [
       "<IPython.core.display.HTML object>"
      ]
     },
     "metadata": {
      "tags": []
     },
     "output_type": "display_data"
    },
    {
     "data": {
      "text/html": [],
      "text/plain": [
       "<IPython.core.display.HTML object>"
      ]
     },
     "metadata": {
      "tags": []
     },
     "output_type": "display_data"
    },
    {
     "data": {
      "text/html": [],
      "text/plain": [
       "<IPython.core.display.HTML object>"
      ]
     },
     "metadata": {
      "tags": []
     },
     "output_type": "display_data"
    },
    {
     "data": {
      "text/html": [],
      "text/plain": [
       "<IPython.core.display.HTML object>"
      ]
     },
     "metadata": {
      "tags": []
     },
     "output_type": "display_data"
    },
    {
     "data": {
      "text/html": [
       "<table border=\"1\" class=\"dataframe\">\n",
       "  <thead>\n",
       "    <tr style=\"text-align: left;\">\n",
       "      <th>epoch</th>\n",
       "      <th>train_loss</th>\n",
       "      <th>valid_loss</th>\n",
       "      <th>accuracy</th>\n",
       "      <th>precision</th>\n",
       "      <th>recall</th>\n",
       "      <th>f_beta</th>\n",
       "      <th>time</th>\n",
       "    </tr>\n",
       "  </thead>\n",
       "  <tbody>\n",
       "    <tr>\n",
       "      <td>0</td>\n",
       "      <td>0.724310</td>\n",
       "      <td>0.635547</td>\n",
       "      <td>0.648980</td>\n",
       "      <td>0.666451</td>\n",
       "      <td>0.654211</td>\n",
       "      <td>0.643992</td>\n",
       "      <td>00:01</td>\n",
       "    </tr>\n",
       "    <tr>\n",
       "      <td>1</td>\n",
       "      <td>0.701151</td>\n",
       "      <td>0.674106</td>\n",
       "      <td>0.620408</td>\n",
       "      <td>0.624712</td>\n",
       "      <td>0.615541</td>\n",
       "      <td>0.611051</td>\n",
       "      <td>00:01</td>\n",
       "    </tr>\n",
       "    <tr>\n",
       "      <td>2</td>\n",
       "      <td>0.694448</td>\n",
       "      <td>0.627825</td>\n",
       "      <td>0.616327</td>\n",
       "      <td>0.634559</td>\n",
       "      <td>0.622114</td>\n",
       "      <td>0.609237</td>\n",
       "      <td>00:01</td>\n",
       "    </tr>\n",
       "    <tr>\n",
       "      <td>3</td>\n",
       "      <td>0.670217</td>\n",
       "      <td>0.608255</td>\n",
       "      <td>0.665306</td>\n",
       "      <td>0.676790</td>\n",
       "      <td>0.669358</td>\n",
       "      <td>0.662829</td>\n",
       "      <td>00:01</td>\n",
       "    </tr>\n",
       "    <tr>\n",
       "      <td>4</td>\n",
       "      <td>0.652323</td>\n",
       "      <td>0.600766</td>\n",
       "      <td>0.657143</td>\n",
       "      <td>0.658287</td>\n",
       "      <td>0.658181</td>\n",
       "      <td>0.657137</td>\n",
       "      <td>00:01</td>\n",
       "    </tr>\n",
       "  </tbody>\n",
       "</table>"
      ],
      "text/plain": [
       "<IPython.core.display.HTML object>"
      ]
     },
     "metadata": {
      "tags": []
     },
     "output_type": "display_data"
    },
    {
     "name": "stdout",
     "output_type": "stream",
     "text": [
      "Fold 1 \n",
      "\n"
     ]
    },
    {
     "data": {
      "text/html": [],
      "text/plain": [
       "<IPython.core.display.HTML object>"
      ]
     },
     "metadata": {
      "tags": []
     },
     "output_type": "display_data"
    },
    {
     "data": {
      "text/html": [],
      "text/plain": [
       "<IPython.core.display.HTML object>"
      ]
     },
     "metadata": {
      "tags": []
     },
     "output_type": "display_data"
    },
    {
     "data": {
      "text/html": [],
      "text/plain": [
       "<IPython.core.display.HTML object>"
      ]
     },
     "metadata": {
      "tags": []
     },
     "output_type": "display_data"
    },
    {
     "data": {
      "text/html": [],
      "text/plain": [
       "<IPython.core.display.HTML object>"
      ]
     },
     "metadata": {
      "tags": []
     },
     "output_type": "display_data"
    },
    {
     "data": {
      "text/html": [
       "<table border=\"1\" class=\"dataframe\">\n",
       "  <thead>\n",
       "    <tr style=\"text-align: left;\">\n",
       "      <th>epoch</th>\n",
       "      <th>train_loss</th>\n",
       "      <th>valid_loss</th>\n",
       "      <th>accuracy</th>\n",
       "      <th>precision</th>\n",
       "      <th>recall</th>\n",
       "      <th>f_beta</th>\n",
       "      <th>time</th>\n",
       "    </tr>\n",
       "  </thead>\n",
       "  <tbody>\n",
       "    <tr>\n",
       "      <td>0</td>\n",
       "      <td>0.730560</td>\n",
       "      <td>0.642276</td>\n",
       "      <td>0.644898</td>\n",
       "      <td>0.644491</td>\n",
       "      <td>0.644568</td>\n",
       "      <td>0.644519</td>\n",
       "      <td>00:01</td>\n",
       "    </tr>\n",
       "    <tr>\n",
       "      <td>1</td>\n",
       "      <td>0.698563</td>\n",
       "      <td>0.616076</td>\n",
       "      <td>0.653061</td>\n",
       "      <td>0.658409</td>\n",
       "      <td>0.655745</td>\n",
       "      <td>0.652227</td>\n",
       "      <td>00:01</td>\n",
       "    </tr>\n",
       "    <tr>\n",
       "      <td>2</td>\n",
       "      <td>0.687719</td>\n",
       "      <td>0.623570</td>\n",
       "      <td>0.669388</td>\n",
       "      <td>0.672227</td>\n",
       "      <td>0.671193</td>\n",
       "      <td>0.669189</td>\n",
       "      <td>00:01</td>\n",
       "    </tr>\n",
       "    <tr>\n",
       "      <td>3</td>\n",
       "      <td>0.667247</td>\n",
       "      <td>0.609188</td>\n",
       "      <td>0.661224</td>\n",
       "      <td>0.662657</td>\n",
       "      <td>0.662418</td>\n",
       "      <td>0.661202</td>\n",
       "      <td>00:01</td>\n",
       "    </tr>\n",
       "    <tr>\n",
       "      <td>4</td>\n",
       "      <td>0.657734</td>\n",
       "      <td>0.604269</td>\n",
       "      <td>0.665306</td>\n",
       "      <td>0.665966</td>\n",
       "      <td>0.666055</td>\n",
       "      <td>0.665301</td>\n",
       "      <td>00:01</td>\n",
       "    </tr>\n",
       "  </tbody>\n",
       "</table>"
      ],
      "text/plain": [
       "<IPython.core.display.HTML object>"
      ]
     },
     "metadata": {
      "tags": []
     },
     "output_type": "display_data"
    },
    {
     "name": "stdout",
     "output_type": "stream",
     "text": [
      "Fold 2 \n",
      "\n"
     ]
    },
    {
     "data": {
      "text/html": [],
      "text/plain": [
       "<IPython.core.display.HTML object>"
      ]
     },
     "metadata": {
      "tags": []
     },
     "output_type": "display_data"
    },
    {
     "data": {
      "text/html": [],
      "text/plain": [
       "<IPython.core.display.HTML object>"
      ]
     },
     "metadata": {
      "tags": []
     },
     "output_type": "display_data"
    },
    {
     "data": {
      "text/html": [],
      "text/plain": [
       "<IPython.core.display.HTML object>"
      ]
     },
     "metadata": {
      "tags": []
     },
     "output_type": "display_data"
    },
    {
     "data": {
      "text/html": [],
      "text/plain": [
       "<IPython.core.display.HTML object>"
      ]
     },
     "metadata": {
      "tags": []
     },
     "output_type": "display_data"
    },
    {
     "data": {
      "text/html": [
       "<table border=\"1\" class=\"dataframe\">\n",
       "  <thead>\n",
       "    <tr style=\"text-align: left;\">\n",
       "      <th>epoch</th>\n",
       "      <th>train_loss</th>\n",
       "      <th>valid_loss</th>\n",
       "      <th>accuracy</th>\n",
       "      <th>precision</th>\n",
       "      <th>recall</th>\n",
       "      <th>f_beta</th>\n",
       "      <th>time</th>\n",
       "    </tr>\n",
       "  </thead>\n",
       "  <tbody>\n",
       "    <tr>\n",
       "      <td>0</td>\n",
       "      <td>0.745529</td>\n",
       "      <td>0.642550</td>\n",
       "      <td>0.628571</td>\n",
       "      <td>0.639052</td>\n",
       "      <td>0.632724</td>\n",
       "      <td>0.625552</td>\n",
       "      <td>00:01</td>\n",
       "    </tr>\n",
       "    <tr>\n",
       "      <td>1</td>\n",
       "      <td>0.704173</td>\n",
       "      <td>0.677583</td>\n",
       "      <td>0.608163</td>\n",
       "      <td>0.627324</td>\n",
       "      <td>0.614240</td>\n",
       "      <td>0.600000</td>\n",
       "      <td>00:01</td>\n",
       "    </tr>\n",
       "    <tr>\n",
       "      <td>2</td>\n",
       "      <td>0.679590</td>\n",
       "      <td>0.656913</td>\n",
       "      <td>0.608163</td>\n",
       "      <td>0.611542</td>\n",
       "      <td>0.610336</td>\n",
       "      <td>0.607634</td>\n",
       "      <td>00:01</td>\n",
       "    </tr>\n",
       "    <tr>\n",
       "      <td>3</td>\n",
       "      <td>0.669075</td>\n",
       "      <td>0.636009</td>\n",
       "      <td>0.648980</td>\n",
       "      <td>0.657041</td>\n",
       "      <td>0.652409</td>\n",
       "      <td>0.647281</td>\n",
       "      <td>00:01</td>\n",
       "    </tr>\n",
       "    <tr>\n",
       "      <td>4</td>\n",
       "      <td>0.649257</td>\n",
       "      <td>0.628737</td>\n",
       "      <td>0.648980</td>\n",
       "      <td>0.654762</td>\n",
       "      <td>0.651808</td>\n",
       "      <td>0.647989</td>\n",
       "      <td>00:01</td>\n",
       "    </tr>\n",
       "  </tbody>\n",
       "</table>"
      ],
      "text/plain": [
       "<IPython.core.display.HTML object>"
      ]
     },
     "metadata": {
      "tags": []
     },
     "output_type": "display_data"
    },
    {
     "name": "stdout",
     "output_type": "stream",
     "text": [
      "Fold 3 \n",
      "\n"
     ]
    },
    {
     "data": {
      "text/html": [],
      "text/plain": [
       "<IPython.core.display.HTML object>"
      ]
     },
     "metadata": {
      "tags": []
     },
     "output_type": "display_data"
    },
    {
     "data": {
      "text/html": [],
      "text/plain": [
       "<IPython.core.display.HTML object>"
      ]
     },
     "metadata": {
      "tags": []
     },
     "output_type": "display_data"
    },
    {
     "data": {
      "text/html": [],
      "text/plain": [
       "<IPython.core.display.HTML object>"
      ]
     },
     "metadata": {
      "tags": []
     },
     "output_type": "display_data"
    },
    {
     "data": {
      "text/html": [],
      "text/plain": [
       "<IPython.core.display.HTML object>"
      ]
     },
     "metadata": {
      "tags": []
     },
     "output_type": "display_data"
    },
    {
     "data": {
      "text/html": [
       "<table border=\"1\" class=\"dataframe\">\n",
       "  <thead>\n",
       "    <tr style=\"text-align: left;\">\n",
       "      <th>epoch</th>\n",
       "      <th>train_loss</th>\n",
       "      <th>valid_loss</th>\n",
       "      <th>accuracy</th>\n",
       "      <th>precision</th>\n",
       "      <th>recall</th>\n",
       "      <th>f_beta</th>\n",
       "      <th>time</th>\n",
       "    </tr>\n",
       "  </thead>\n",
       "  <tbody>\n",
       "    <tr>\n",
       "      <td>0</td>\n",
       "      <td>0.727847</td>\n",
       "      <td>0.622425</td>\n",
       "      <td>0.669388</td>\n",
       "      <td>0.675120</td>\n",
       "      <td>0.665187</td>\n",
       "      <td>0.662896</td>\n",
       "      <td>00:01</td>\n",
       "    </tr>\n",
       "    <tr>\n",
       "      <td>1</td>\n",
       "      <td>0.705661</td>\n",
       "      <td>0.610322</td>\n",
       "      <td>0.657143</td>\n",
       "      <td>0.661124</td>\n",
       "      <td>0.659382</td>\n",
       "      <td>0.656680</td>\n",
       "      <td>00:01</td>\n",
       "    </tr>\n",
       "    <tr>\n",
       "      <td>2</td>\n",
       "      <td>0.685291</td>\n",
       "      <td>0.600773</td>\n",
       "      <td>0.693878</td>\n",
       "      <td>0.702626</td>\n",
       "      <td>0.697217</td>\n",
       "      <td>0.692566</td>\n",
       "      <td>00:01</td>\n",
       "    </tr>\n",
       "    <tr>\n",
       "      <td>3</td>\n",
       "      <td>0.670111</td>\n",
       "      <td>0.598507</td>\n",
       "      <td>0.665306</td>\n",
       "      <td>0.670358</td>\n",
       "      <td>0.667857</td>\n",
       "      <td>0.664630</td>\n",
       "      <td>00:01</td>\n",
       "    </tr>\n",
       "    <tr>\n",
       "      <td>4</td>\n",
       "      <td>0.649150</td>\n",
       "      <td>0.601027</td>\n",
       "      <td>0.648980</td>\n",
       "      <td>0.655853</td>\n",
       "      <td>0.652109</td>\n",
       "      <td>0.647659</td>\n",
       "      <td>00:01</td>\n",
       "    </tr>\n",
       "  </tbody>\n",
       "</table>"
      ],
      "text/plain": [
       "<IPython.core.display.HTML object>"
      ]
     },
     "metadata": {
      "tags": []
     },
     "output_type": "display_data"
    },
    {
     "name": "stdout",
     "output_type": "stream",
     "text": [
      "Fold 4 \n",
      "\n"
     ]
    },
    {
     "data": {
      "text/html": [],
      "text/plain": [
       "<IPython.core.display.HTML object>"
      ]
     },
     "metadata": {
      "tags": []
     },
     "output_type": "display_data"
    },
    {
     "data": {
      "text/html": [],
      "text/plain": [
       "<IPython.core.display.HTML object>"
      ]
     },
     "metadata": {
      "tags": []
     },
     "output_type": "display_data"
    },
    {
     "data": {
      "text/html": [],
      "text/plain": [
       "<IPython.core.display.HTML object>"
      ]
     },
     "metadata": {
      "tags": []
     },
     "output_type": "display_data"
    },
    {
     "data": {
      "text/html": [],
      "text/plain": [
       "<IPython.core.display.HTML object>"
      ]
     },
     "metadata": {
      "tags": []
     },
     "output_type": "display_data"
    },
    {
     "data": {
      "text/html": [
       "<table border=\"1\" class=\"dataframe\">\n",
       "  <thead>\n",
       "    <tr style=\"text-align: left;\">\n",
       "      <th>epoch</th>\n",
       "      <th>train_loss</th>\n",
       "      <th>valid_loss</th>\n",
       "      <th>accuracy</th>\n",
       "      <th>precision</th>\n",
       "      <th>recall</th>\n",
       "      <th>f_beta</th>\n",
       "      <th>time</th>\n",
       "    </tr>\n",
       "  </thead>\n",
       "  <tbody>\n",
       "    <tr>\n",
       "      <td>0</td>\n",
       "      <td>0.752061</td>\n",
       "      <td>0.678751</td>\n",
       "      <td>0.612245</td>\n",
       "      <td>0.616839</td>\n",
       "      <td>0.614874</td>\n",
       "      <td>0.611312</td>\n",
       "      <td>00:01</td>\n",
       "    </tr>\n",
       "    <tr>\n",
       "      <td>1</td>\n",
       "      <td>0.707414</td>\n",
       "      <td>0.694668</td>\n",
       "      <td>0.620408</td>\n",
       "      <td>0.621865</td>\n",
       "      <td>0.616742</td>\n",
       "      <td>0.614630</td>\n",
       "      <td>00:01</td>\n",
       "    </tr>\n",
       "    <tr>\n",
       "      <td>2</td>\n",
       "      <td>0.691459</td>\n",
       "      <td>0.668037</td>\n",
       "      <td>0.608163</td>\n",
       "      <td>0.614927</td>\n",
       "      <td>0.611537</td>\n",
       "      <td>0.606268</td>\n",
       "      <td>00:01</td>\n",
       "    </tr>\n",
       "    <tr>\n",
       "      <td>3</td>\n",
       "      <td>0.675653</td>\n",
       "      <td>0.666345</td>\n",
       "      <td>0.636735</td>\n",
       "      <td>0.638677</td>\n",
       "      <td>0.638196</td>\n",
       "      <td>0.636638</td>\n",
       "      <td>00:01</td>\n",
       "    </tr>\n",
       "    <tr>\n",
       "      <td>4</td>\n",
       "      <td>0.663133</td>\n",
       "      <td>0.677040</td>\n",
       "      <td>0.608163</td>\n",
       "      <td>0.617059</td>\n",
       "      <td>0.612138</td>\n",
       "      <td>0.605263</td>\n",
       "      <td>00:01</td>\n",
       "    </tr>\n",
       "  </tbody>\n",
       "</table>"
      ],
      "text/plain": [
       "<IPython.core.display.HTML object>"
      ]
     },
     "metadata": {
      "tags": []
     },
     "output_type": "display_data"
    },
    {
     "name": "stdout",
     "output_type": "stream",
     "text": [
      "Fold 5 \n",
      "\n"
     ]
    },
    {
     "data": {
      "text/html": [],
      "text/plain": [
       "<IPython.core.display.HTML object>"
      ]
     },
     "metadata": {
      "tags": []
     },
     "output_type": "display_data"
    },
    {
     "data": {
      "text/html": [],
      "text/plain": [
       "<IPython.core.display.HTML object>"
      ]
     },
     "metadata": {
      "tags": []
     },
     "output_type": "display_data"
    },
    {
     "data": {
      "text/html": [],
      "text/plain": [
       "<IPython.core.display.HTML object>"
      ]
     },
     "metadata": {
      "tags": []
     },
     "output_type": "display_data"
    },
    {
     "data": {
      "text/html": [],
      "text/plain": [
       "<IPython.core.display.HTML object>"
      ]
     },
     "metadata": {
      "tags": []
     },
     "output_type": "display_data"
    },
    {
     "data": {
      "text/html": [
       "<table border=\"1\" class=\"dataframe\">\n",
       "  <thead>\n",
       "    <tr style=\"text-align: left;\">\n",
       "      <th>epoch</th>\n",
       "      <th>train_loss</th>\n",
       "      <th>valid_loss</th>\n",
       "      <th>accuracy</th>\n",
       "      <th>precision</th>\n",
       "      <th>recall</th>\n",
       "      <th>f_beta</th>\n",
       "      <th>time</th>\n",
       "    </tr>\n",
       "  </thead>\n",
       "  <tbody>\n",
       "    <tr>\n",
       "      <td>0</td>\n",
       "      <td>0.741554</td>\n",
       "      <td>0.721882</td>\n",
       "      <td>0.481633</td>\n",
       "      <td>0.478571</td>\n",
       "      <td>0.478980</td>\n",
       "      <td>0.477419</td>\n",
       "      <td>00:01</td>\n",
       "    </tr>\n",
       "    <tr>\n",
       "      <td>1</td>\n",
       "      <td>0.695999</td>\n",
       "      <td>0.679759</td>\n",
       "      <td>0.559184</td>\n",
       "      <td>0.557758</td>\n",
       "      <td>0.556786</td>\n",
       "      <td>0.555921</td>\n",
       "      <td>00:01</td>\n",
       "    </tr>\n",
       "    <tr>\n",
       "      <td>2</td>\n",
       "      <td>0.686410</td>\n",
       "      <td>0.668549</td>\n",
       "      <td>0.591837</td>\n",
       "      <td>0.590937</td>\n",
       "      <td>0.589784</td>\n",
       "      <td>0.589367</td>\n",
       "      <td>00:01</td>\n",
       "    </tr>\n",
       "    <tr>\n",
       "      <td>3</td>\n",
       "      <td>0.668504</td>\n",
       "      <td>0.688582</td>\n",
       "      <td>0.595918</td>\n",
       "      <td>0.595412</td>\n",
       "      <td>0.593120</td>\n",
       "      <td>0.592003</td>\n",
       "      <td>00:01</td>\n",
       "    </tr>\n",
       "    <tr>\n",
       "      <td>4</td>\n",
       "      <td>0.652772</td>\n",
       "      <td>0.673590</td>\n",
       "      <td>0.595918</td>\n",
       "      <td>0.595641</td>\n",
       "      <td>0.592820</td>\n",
       "      <td>0.591316</td>\n",
       "      <td>00:01</td>\n",
       "    </tr>\n",
       "  </tbody>\n",
       "</table>"
      ],
      "text/plain": [
       "<IPython.core.display.HTML object>"
      ]
     },
     "metadata": {
      "tags": []
     },
     "output_type": "display_data"
    },
    {
     "name": "stdout",
     "output_type": "stream",
     "text": [
      "Fold 6 \n",
      "\n"
     ]
    },
    {
     "data": {
      "text/html": [],
      "text/plain": [
       "<IPython.core.display.HTML object>"
      ]
     },
     "metadata": {
      "tags": []
     },
     "output_type": "display_data"
    },
    {
     "data": {
      "text/html": [],
      "text/plain": [
       "<IPython.core.display.HTML object>"
      ]
     },
     "metadata": {
      "tags": []
     },
     "output_type": "display_data"
    },
    {
     "data": {
      "text/html": [],
      "text/plain": [
       "<IPython.core.display.HTML object>"
      ]
     },
     "metadata": {
      "tags": []
     },
     "output_type": "display_data"
    },
    {
     "data": {
      "text/html": [],
      "text/plain": [
       "<IPython.core.display.HTML object>"
      ]
     },
     "metadata": {
      "tags": []
     },
     "output_type": "display_data"
    },
    {
     "data": {
      "text/html": [
       "<table border=\"1\" class=\"dataframe\">\n",
       "  <thead>\n",
       "    <tr style=\"text-align: left;\">\n",
       "      <th>epoch</th>\n",
       "      <th>train_loss</th>\n",
       "      <th>valid_loss</th>\n",
       "      <th>accuracy</th>\n",
       "      <th>precision</th>\n",
       "      <th>recall</th>\n",
       "      <th>f_beta</th>\n",
       "      <th>time</th>\n",
       "    </tr>\n",
       "  </thead>\n",
       "  <tbody>\n",
       "    <tr>\n",
       "      <td>0</td>\n",
       "      <td>0.736496</td>\n",
       "      <td>0.657642</td>\n",
       "      <td>0.657143</td>\n",
       "      <td>0.664130</td>\n",
       "      <td>0.659664</td>\n",
       "      <td>0.655484</td>\n",
       "      <td>00:01</td>\n",
       "    </tr>\n",
       "    <tr>\n",
       "      <td>1</td>\n",
       "      <td>0.701253</td>\n",
       "      <td>0.713747</td>\n",
       "      <td>0.587755</td>\n",
       "      <td>0.587500</td>\n",
       "      <td>0.587535</td>\n",
       "      <td>0.587508</td>\n",
       "      <td>00:01</td>\n",
       "    </tr>\n",
       "    <tr>\n",
       "      <td>2</td>\n",
       "      <td>0.688940</td>\n",
       "      <td>0.663286</td>\n",
       "      <td>0.624490</td>\n",
       "      <td>0.627020</td>\n",
       "      <td>0.621615</td>\n",
       "      <td>0.619154</td>\n",
       "      <td>00:01</td>\n",
       "    </tr>\n",
       "    <tr>\n",
       "      <td>3</td>\n",
       "      <td>0.659415</td>\n",
       "      <td>0.680948</td>\n",
       "      <td>0.571429</td>\n",
       "      <td>0.571429</td>\n",
       "      <td>0.568627</td>\n",
       "      <td>0.565757</td>\n",
       "      <td>00:01</td>\n",
       "    </tr>\n",
       "    <tr>\n",
       "      <td>4</td>\n",
       "      <td>0.654885</td>\n",
       "      <td>0.671995</td>\n",
       "      <td>0.608163</td>\n",
       "      <td>0.608500</td>\n",
       "      <td>0.608543</td>\n",
       "      <td>0.608157</td>\n",
       "      <td>00:01</td>\n",
       "    </tr>\n",
       "  </tbody>\n",
       "</table>"
      ],
      "text/plain": [
       "<IPython.core.display.HTML object>"
      ]
     },
     "metadata": {
      "tags": []
     },
     "output_type": "display_data"
    },
    {
     "name": "stdout",
     "output_type": "stream",
     "text": [
      "Fold 7 \n",
      "\n"
     ]
    },
    {
     "data": {
      "text/html": [],
      "text/plain": [
       "<IPython.core.display.HTML object>"
      ]
     },
     "metadata": {
      "tags": []
     },
     "output_type": "display_data"
    },
    {
     "data": {
      "text/html": [],
      "text/plain": [
       "<IPython.core.display.HTML object>"
      ]
     },
     "metadata": {
      "tags": []
     },
     "output_type": "display_data"
    },
    {
     "data": {
      "text/html": [],
      "text/plain": [
       "<IPython.core.display.HTML object>"
      ]
     },
     "metadata": {
      "tags": []
     },
     "output_type": "display_data"
    },
    {
     "data": {
      "text/html": [],
      "text/plain": [
       "<IPython.core.display.HTML object>"
      ]
     },
     "metadata": {
      "tags": []
     },
     "output_type": "display_data"
    },
    {
     "data": {
      "text/html": [
       "<table border=\"1\" class=\"dataframe\">\n",
       "  <thead>\n",
       "    <tr style=\"text-align: left;\">\n",
       "      <th>epoch</th>\n",
       "      <th>train_loss</th>\n",
       "      <th>valid_loss</th>\n",
       "      <th>accuracy</th>\n",
       "      <th>precision</th>\n",
       "      <th>recall</th>\n",
       "      <th>f_beta</th>\n",
       "      <th>time</th>\n",
       "    </tr>\n",
       "  </thead>\n",
       "  <tbody>\n",
       "    <tr>\n",
       "      <td>0</td>\n",
       "      <td>0.724687</td>\n",
       "      <td>0.615959</td>\n",
       "      <td>0.696721</td>\n",
       "      <td>0.716768</td>\n",
       "      <td>0.691283</td>\n",
       "      <td>0.685545</td>\n",
       "      <td>00:01</td>\n",
       "    </tr>\n",
       "    <tr>\n",
       "      <td>1</td>\n",
       "      <td>0.696364</td>\n",
       "      <td>0.615609</td>\n",
       "      <td>0.655738</td>\n",
       "      <td>0.656731</td>\n",
       "      <td>0.653484</td>\n",
       "      <td>0.652916</td>\n",
       "      <td>00:01</td>\n",
       "    </tr>\n",
       "    <tr>\n",
       "      <td>2</td>\n",
       "      <td>0.684785</td>\n",
       "      <td>0.642239</td>\n",
       "      <td>0.614754</td>\n",
       "      <td>0.634598</td>\n",
       "      <td>0.620258</td>\n",
       "      <td>0.606181</td>\n",
       "      <td>00:01</td>\n",
       "    </tr>\n",
       "    <tr>\n",
       "      <td>3</td>\n",
       "      <td>0.673076</td>\n",
       "      <td>0.625977</td>\n",
       "      <td>0.631148</td>\n",
       "      <td>0.634804</td>\n",
       "      <td>0.633172</td>\n",
       "      <td>0.630527</td>\n",
       "      <td>00:01</td>\n",
       "    </tr>\n",
       "    <tr>\n",
       "      <td>4</td>\n",
       "      <td>0.654533</td>\n",
       "      <td>0.611464</td>\n",
       "      <td>0.622951</td>\n",
       "      <td>0.623253</td>\n",
       "      <td>0.623352</td>\n",
       "      <td>0.622925</td>\n",
       "      <td>00:01</td>\n",
       "    </tr>\n",
       "  </tbody>\n",
       "</table>"
      ],
      "text/plain": [
       "<IPython.core.display.HTML object>"
      ]
     },
     "metadata": {
      "tags": []
     },
     "output_type": "display_data"
    },
    {
     "name": "stdout",
     "output_type": "stream",
     "text": [
      "Fold 8 \n",
      "\n"
     ]
    },
    {
     "data": {
      "text/html": [],
      "text/plain": [
       "<IPython.core.display.HTML object>"
      ]
     },
     "metadata": {
      "tags": []
     },
     "output_type": "display_data"
    },
    {
     "data": {
      "text/html": [],
      "text/plain": [
       "<IPython.core.display.HTML object>"
      ]
     },
     "metadata": {
      "tags": []
     },
     "output_type": "display_data"
    },
    {
     "data": {
      "text/html": [],
      "text/plain": [
       "<IPython.core.display.HTML object>"
      ]
     },
     "metadata": {
      "tags": []
     },
     "output_type": "display_data"
    },
    {
     "data": {
      "text/html": [],
      "text/plain": [
       "<IPython.core.display.HTML object>"
      ]
     },
     "metadata": {
      "tags": []
     },
     "output_type": "display_data"
    },
    {
     "data": {
      "text/html": [
       "<table border=\"1\" class=\"dataframe\">\n",
       "  <thead>\n",
       "    <tr style=\"text-align: left;\">\n",
       "      <th>epoch</th>\n",
       "      <th>train_loss</th>\n",
       "      <th>valid_loss</th>\n",
       "      <th>accuracy</th>\n",
       "      <th>precision</th>\n",
       "      <th>recall</th>\n",
       "      <th>f_beta</th>\n",
       "      <th>time</th>\n",
       "    </tr>\n",
       "  </thead>\n",
       "  <tbody>\n",
       "    <tr>\n",
       "      <td>0</td>\n",
       "      <td>0.703716</td>\n",
       "      <td>0.683903</td>\n",
       "      <td>0.504098</td>\n",
       "      <td>0.496273</td>\n",
       "      <td>0.496973</td>\n",
       "      <td>0.475474</td>\n",
       "      <td>00:01</td>\n",
       "    </tr>\n",
       "    <tr>\n",
       "      <td>1</td>\n",
       "      <td>0.680159</td>\n",
       "      <td>0.620504</td>\n",
       "      <td>0.655738</td>\n",
       "      <td>0.663899</td>\n",
       "      <td>0.651332</td>\n",
       "      <td>0.647180</td>\n",
       "      <td>00:01</td>\n",
       "    </tr>\n",
       "    <tr>\n",
       "      <td>2</td>\n",
       "      <td>0.677522</td>\n",
       "      <td>0.624153</td>\n",
       "      <td>0.655738</td>\n",
       "      <td>0.659488</td>\n",
       "      <td>0.652408</td>\n",
       "      <td>0.650454</td>\n",
       "      <td>00:01</td>\n",
       "    </tr>\n",
       "    <tr>\n",
       "      <td>3</td>\n",
       "      <td>0.670295</td>\n",
       "      <td>0.619851</td>\n",
       "      <td>0.639344</td>\n",
       "      <td>0.647336</td>\n",
       "      <td>0.634652</td>\n",
       "      <td>0.629384</td>\n",
       "      <td>00:01</td>\n",
       "    </tr>\n",
       "    <tr>\n",
       "      <td>4</td>\n",
       "      <td>0.655497</td>\n",
       "      <td>0.611503</td>\n",
       "      <td>0.647541</td>\n",
       "      <td>0.653824</td>\n",
       "      <td>0.643395</td>\n",
       "      <td>0.639698</td>\n",
       "      <td>00:01</td>\n",
       "    </tr>\n",
       "  </tbody>\n",
       "</table>"
      ],
      "text/plain": [
       "<IPython.core.display.HTML object>"
      ]
     },
     "metadata": {
      "tags": []
     },
     "output_type": "display_data"
    },
    {
     "name": "stdout",
     "output_type": "stream",
     "text": [
      "Fold 9 \n",
      "\n"
     ]
    },
    {
     "data": {
      "text/html": [],
      "text/plain": [
       "<IPython.core.display.HTML object>"
      ]
     },
     "metadata": {
      "tags": []
     },
     "output_type": "display_data"
    },
    {
     "data": {
      "text/html": [],
      "text/plain": [
       "<IPython.core.display.HTML object>"
      ]
     },
     "metadata": {
      "tags": []
     },
     "output_type": "display_data"
    },
    {
     "data": {
      "text/html": [],
      "text/plain": [
       "<IPython.core.display.HTML object>"
      ]
     },
     "metadata": {
      "tags": []
     },
     "output_type": "display_data"
    },
    {
     "data": {
      "text/html": [],
      "text/plain": [
       "<IPython.core.display.HTML object>"
      ]
     },
     "metadata": {
      "tags": []
     },
     "output_type": "display_data"
    },
    {
     "data": {
      "text/html": [
       "<table border=\"1\" class=\"dataframe\">\n",
       "  <thead>\n",
       "    <tr style=\"text-align: left;\">\n",
       "      <th>epoch</th>\n",
       "      <th>train_loss</th>\n",
       "      <th>valid_loss</th>\n",
       "      <th>accuracy</th>\n",
       "      <th>precision</th>\n",
       "      <th>recall</th>\n",
       "      <th>f_beta</th>\n",
       "      <th>time</th>\n",
       "    </tr>\n",
       "  </thead>\n",
       "  <tbody>\n",
       "    <tr>\n",
       "      <td>0</td>\n",
       "      <td>0.753279</td>\n",
       "      <td>0.657695</td>\n",
       "      <td>0.655738</td>\n",
       "      <td>0.656048</td>\n",
       "      <td>0.656174</td>\n",
       "      <td>0.655715</td>\n",
       "      <td>00:01</td>\n",
       "    </tr>\n",
       "    <tr>\n",
       "      <td>1</td>\n",
       "      <td>0.708071</td>\n",
       "      <td>0.615497</td>\n",
       "      <td>0.672131</td>\n",
       "      <td>0.681672</td>\n",
       "      <td>0.667743</td>\n",
       "      <td>0.663981</td>\n",
       "      <td>00:01</td>\n",
       "    </tr>\n",
       "    <tr>\n",
       "      <td>2</td>\n",
       "      <td>0.689377</td>\n",
       "      <td>0.613592</td>\n",
       "      <td>0.651639</td>\n",
       "      <td>0.651784</td>\n",
       "      <td>0.651937</td>\n",
       "      <td>0.651587</td>\n",
       "      <td>00:01</td>\n",
       "    </tr>\n",
       "    <tr>\n",
       "      <td>3</td>\n",
       "      <td>0.670239</td>\n",
       "      <td>0.630304</td>\n",
       "      <td>0.618852</td>\n",
       "      <td>0.618521</td>\n",
       "      <td>0.618577</td>\n",
       "      <td>0.618538</td>\n",
       "      <td>00:01</td>\n",
       "    </tr>\n",
       "    <tr>\n",
       "      <td>4</td>\n",
       "      <td>0.661337</td>\n",
       "      <td>0.627349</td>\n",
       "      <td>0.635246</td>\n",
       "      <td>0.634800</td>\n",
       "      <td>0.634719</td>\n",
       "      <td>0.634749</td>\n",
       "      <td>00:01</td>\n",
       "    </tr>\n",
       "  </tbody>\n",
       "</table>"
      ],
      "text/plain": [
       "<IPython.core.display.HTML object>"
      ]
     },
     "metadata": {
      "tags": []
     },
     "output_type": "display_data"
    }
   ],
   "source": [
    "folds = int(len([name for name in os.listdir(FOLDS_PATH) if os.path.isfile(os.path.join(FOLDS_PATH,name))]) / 2)\n",
    "print(\"Training on {} folds\".format(folds))\n",
    "\n",
    "val_acc = []\n",
    "val_prec = []\n",
    "val_rec = []\n",
    "val_f1 = []\n",
    "\n",
    "\n",
    "for f in range(10):  \n",
    "  df_train = pd.read_csv(FOLDS_PATH + \"train\"+str(f) + \".csv\", sep=\"\\t\", index_col=False)\n",
    "  df_valid = pd.read_csv(FOLDS_PATH + \"test\"+str(f) + \".csv\", sep=\"\\t\", index_col=False)\n",
    "  print(\"Fold\",f,'\\n')\n",
    "  data_lm = TextLMDataBunch.from_df(path=FOLDER,\n",
    "                                  train_df=df_train,\n",
    "                                  valid_df=df_valid, \n",
    "                                  label_cols='y', \n",
    "                                  text_cols='text')\n",
    "\n",
    "  lm = language_model_learner(data_lm, AWD_LSTM, drop_mult=0.2)\n",
    "  lm.save_encoder(FOLDER+'language_model')\n",
    "\n",
    "  data_clas = TextClasDataBunch.from_df(path=FOLDER,\n",
    "                                      train_df=df_train, \n",
    "                                      valid_df=df_valid, \n",
    "                                      vocab=data_lm.train_ds.vocab,\n",
    "                                      label_cols='y',\n",
    "                                      text_cols='text')\n",
    "  \n",
    "  learner = text_classifier_learner(data_clas, \n",
    "                                 AWD_LSTM,\n",
    "                                 drop_mult=0.2,                                 \n",
    "                                 metrics=[accuracy,\n",
    "                                          Precision(average=\"macro\"), \n",
    "                                          Recall(average=\"macro\"), \n",
    "                                          FBeta(average=\"macro\", beta=1)])  \n",
    "  learner.load_encoder(FOLDER+'language_model')\n",
    "  # print(learner.summary())\n",
    "  # learner.lr_find()\n",
    "  # learner.recorder.plot()\n",
    "  learner.fit_one_cycle(5, max_lr=1e-2)\n",
    "  \n",
    "\n",
    "  # loss_value, acc_value, prec_value, rec_value, f1_value = learner.validate()\n",
    "  # val_acc.append(acc_value.item())\n",
    "  # val_prec.append(prec_value.item())\n",
    "  # val_rec.append(rec_value.item())\n",
    "  # val_f1.append(f1_value.item())"
   ]
  },
  {
   "cell_type": "code",
   "execution_count": null,
   "metadata": {
    "colab": {
     "base_uri": "https://localhost:8080/",
     "height": 425
    },
    "executionInfo": {
     "elapsed": 1128,
     "status": "ok",
     "timestamp": 1590733018309,
     "user": {
      "displayName": "Vinícios Carvalho",
      "photoUrl": "https://lh3.googleusercontent.com/a-/AOh14Gjhp5co0d_AUKLWGcNdVqI7Qn0syOObU223e5VE7Hs=s64",
      "userId": "11287658652742546493"
     },
     "user_tz": 240
    },
    "id": "HirCROSLBWq4",
    "outputId": "a240f8f4-8748-4bfe-83f7-0c9c07713b7d"
   },
   "outputs": [
    {
     "data": {
      "text/plain": [
       "SequentialRNN\n",
       "======================================================================\n",
       "Layer (type)         Output Shape         Param #    Trainable \n",
       "======================================================================\n",
       "RNNDropout           [70, 400]            0          False     \n",
       "______________________________________________________________________\n",
       "RNNDropout           [70, 1152]           0          False     \n",
       "______________________________________________________________________\n",
       "RNNDropout           [70, 1152]           0          False     \n",
       "______________________________________________________________________\n",
       "Linear               [70, 2128]           853,328    True      \n",
       "______________________________________________________________________\n",
       "RNNDropout           [70, 400]            0          False     \n",
       "______________________________________________________________________\n",
       "\n",
       "Total params: 853,328\n",
       "Total trainable params: 853,328\n",
       "Total non-trainable params: 0\n",
       "Optimized with 'torch.optim.adam.Adam', betas=(0.9, 0.99)\n",
       "Using true weight decay as discussed in https://www.fast.ai/2018/07/02/adam-weight-decay/ \n",
       "Loss function : FlattenedLoss\n",
       "======================================================================\n",
       "Callbacks functions applied \n",
       "    RNNTrainer"
      ]
     },
     "execution_count": 7,
     "metadata": {
      "tags": []
     },
     "output_type": "execute_result"
    }
   ],
   "source": [
    "lm.summary()"
   ]
  },
  {
   "cell_type": "markdown",
   "metadata": {
    "id": "4LUHUBvEGiOZ"
   },
   "source": [
    "#Salvando resultados em arquivo"
   ]
  },
  {
   "cell_type": "code",
   "execution_count": null,
   "metadata": {
    "id": "vKLg6m4GGlyC"
   },
   "outputs": [],
   "source": [
    "created_at = ctime()\n",
    "created_at = created_at.replace(' ', '-')\n",
    "name = \"{}-{}-{}-{}-results.csv\".format(\"LSTM\", SIZE, C, created_at)\n",
    "with open(os.path.join(FOLDER, 'results', name), 'w') as f:\n",
    "  f.write(\"folds, acc, prec, rec, f1\\n\")\n",
    "  f.write(\"{},{},{},{},{}\\n\".format(folds, np.mean(val_acc), np.mean(val_prec), np.mean(val_rec), np.mean(val_f1)))\n",
    "  f.write(\"{},{},{},{},{}\\n\".format('-', acc, prec, rec, f1))"
   ]
  },
  {
   "cell_type": "code",
   "execution_count": null,
   "metadata": {
    "id": "9gRsC1pqTGA4"
   },
   "outputs": [],
   "source": []
  }
 ],
 "metadata": {
  "accelerator": "GPU",
  "colab": {
   "authorship_tag": "ABX9TyPAUp59A/sGp1xh7NzDmbL4",
   "collapsed_sections": [],
   "mount_file_id": "1sVE_nTZDv4kbCLNSOO0eVRrw88N2cqeF",
   "name": "LSTM fastai text classification.ipynb",
   "provenance": []
  },
  "kernelspec": {
   "display_name": "Python 3",
   "language": "python",
   "name": "python3"
  },
  "language_info": {
   "codemirror_mode": {
    "name": "ipython",
    "version": 3
   },
   "file_extension": ".py",
   "mimetype": "text/x-python",
   "name": "python",
   "nbconvert_exporter": "python",
   "pygments_lexer": "ipython3",
   "version": "3.7.6"
  }
 },
 "nbformat": 4,
 "nbformat_minor": 1
}
